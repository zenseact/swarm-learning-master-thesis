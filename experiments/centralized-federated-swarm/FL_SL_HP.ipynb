{
   "cells": [
      {
         "cell_type": "markdown",
         "metadata": {
            "id": "MqBs6X9stEtG"
         },
         "source": [
            "## Simulation of Holistic path project in centralized, federated and swarm settings\n",
            "### Authors: Yazan Ghafir - Alex Bellander\n",
            "### Supervisors: Mina Alebeigi - Johan Östman"
         ]
      },
      {
         "cell_type": "markdown",
         "metadata": {
            "id": "D4KiTMTpiort"
         },
         "source": [
            "### Imports"
         ]
      },
      {
         "cell_type": "code",
         "execution_count": 2,
         "metadata": {
            "colab": {
               "base_uri": "https://localhost:8080/"
            },
            "id": "eTrCL2FmC5U5",
            "outputId": "795be04f-c961-42f2-e6bc-d621d20d4a9a"
         },
         "outputs": [
            {
               "data": {
                  "text/html": [
                     "<style>div.output_scroll { height: 100em; }</style>"
                  ],
                  "text/plain": [
                     "<IPython.core.display.HTML object>"
                  ]
               },
               "metadata": {},
               "output_type": "display_data"
            },
            {
               "name": "stdout",
               "output_type": "stream",
               "text": [
                  "cpu is available in this machine using PyTorch 1.12.1 and Flower 1.3.0\n",
                  "Pytorch version: 0.13.1a0\n"
               ]
            },
            {
               "name": "stderr",
               "output_type": "stream",
               "text": [
                  "/home/s0001721/anaconda3/envs/zen/lib/python3.9/site-packages/torch/cuda/__init__.py:83: UserWarning: CUDA initialization: CUDA unknown error - this may be due to an incorrectly set up environment, e.g. changing env variable CUDA_VISIBLE_DEVICES after program start. Setting the available devices to be zero. (Triggered internally at  ../c10/cuda/CUDAFunctions.cpp:109.)\n",
                  "  return torch._C._cuda_getDeviceCount() > 0\n"
               ]
            }
         ],
         "source": [
            "from collections import OrderedDict\n",
            "from typing import Dict, List, Optional, Tuple\n",
            "import os\n",
            "import flwr as fl\n",
            "import numpy as np\n",
            "import torch\n",
            "import torchvision\n",
            "import torch.nn as nn\n",
            "import torch.nn.functional as F\n",
            "import torchvision.transforms as transforms\n",
            "from torchvision import datasets, models, transforms\n",
            "from torch.utils.data import DataLoader, random_split\n",
            "from torchvision.datasets import CIFAR10\n",
            "from torchsummary import summary\n",
            "from torchvision.io import read_image\n",
            "from torch.utils.data import Dataset\n",
            "from torchvision.transforms import ToTensor\n",
            "from enum import Enum\n",
            "from tqdm import tqdm\n",
            "import gc\n",
            "from numba import cuda \n",
            "import networkx as nx\n",
            "import random\n",
            "\n",
            "from matplotlib import pyplot as plt\n",
            "%matplotlib inline\n",
            "plt.rcParams[\"figure.figsize\"] = [20, 10]\n",
            "\n",
            "from IPython.display import display, HTML\n",
            "display(HTML(\"<style>div.output_scroll { height: 100em; }</style>\"))\n",
            "\n",
            "# import the ZOD DevKit\n",
            "from zod import ZodFrames\n",
            "from zod import ZodSequences\n",
            "\n",
            "# import default constants\n",
            "import zod.constants as constants\n",
            "from zod.constants import Camera, Lidar, Anonymization, AnnotationProject\n",
            "\n",
            "''' type of ML task. The loss function will be chosen accordingly'''\n",
            "class TASK(Enum): CLASSIFICATION = 1; REGRESSION = 2;\n",
            "    \n",
            "available_device = 'cuda' if torch.cuda.is_available() else 'cpu'\n",
            "print(f\"{available_device} is available in this machine using PyTorch {torch.__version__} and Flower {fl.__version__}\")\n",
            "print(f\"Pytorch version: {torchvision.__version__}\")"
         ]
      },
      {
         "cell_type": "markdown",
         "metadata": {},
         "source": [
            "### Hyper parameters"
         ]
      },
      {
         "cell_type": "code",
         "execution_count": 3,
         "metadata": {},
         "outputs": [],
         "source": [
            "# Hyper parameters & Dataset class\n",
            "NUM_CLIENTS = 2\n",
            "NUM_OUTPUT = 66\n",
            "IMG_SIZE = 160\n",
            "RUN_PRETRAINED = True\n",
            "ML_TASK = TASK.REGRESSION\n",
            "BATCH_SIZE=8\n",
            "VAL_PART=10\n",
            "SUBSET_RATIO = 0.003\n",
            "USE_GPU=False\n",
            "NUM_GLOBAL_ROUNDS = 3\n",
            "NUM_LOCAL_EPOCHS = 10\n",
            "PRINT_DEBUG_DATA=True\n",
            "\n",
            "DEVICE = torch.device('cuda' if USE_GPU else 'cpu')"
         ]
      },
      {
         "cell_type": "markdown",
         "metadata": {
            "id": "JVcgAAiaihnx"
         },
         "source": [
            "### Data loading"
         ]
      },
      {
         "cell_type": "code",
         "execution_count": 4,
         "metadata": {
            "id": "4Su2QUSa6dO8"
         },
         "outputs": [
            {
               "data": {
                  "application/vnd.jupyter.widget-view+json": {
                     "model_id": "ebaa7519ff0841eab0d822ac311f7da9",
                     "version_major": 2,
                     "version_minor": 0
                  },
                  "text/plain": [
                     "Loading train frames:   0%|          | 0/89976 [00:00<?, ?it/s]"
                  ]
               },
               "metadata": {},
               "output_type": "display_data"
            },
            {
               "data": {
                  "application/vnd.jupyter.widget-view+json": {
                     "model_id": "1473ec966be042b4a1e0a575686c2837",
                     "version_major": 2,
                     "version_minor": 0
                  },
                  "text/plain": [
                     "Loading val frames:   0%|          | 0/10024 [00:00<?, ?it/s]"
                  ]
               },
               "metadata": {},
               "output_type": "display_data"
            }
         ],
         "source": [
            "dataset_root = \"/staging/dataset_donation/round_2\"\n",
            "version = \"full\"  # \"mini\" or \"full\"\n",
            "zod_frames = ZodFrames(dataset_root=dataset_root, version=version)\n",
            "\n",
            "training_frames_all = zod_frames.get_split(constants.TRAIN)\n",
            "validation_frames_all = zod_frames.get_split(constants.VAL)"
         ]
      },
      {
         "cell_type": "code",
         "execution_count": 5,
         "metadata": {},
         "outputs": [
            {
               "name": "stdout",
               "output_type": "stream",
               "text": [
                  "training_frames length: 269\n",
                  "validation_frames length: 30\n"
               ]
            }
         ],
         "source": [
            "training_frames = training_frames_all[:int(len(training_frames_all) * SUBSET_RATIO)]\n",
            "validation_frames = validation_frames_all[:int(len(validation_frames_all) * SUBSET_RATIO)]\n",
            "\n",
            "print('training_frames length:', len(training_frames))\n",
            "print('validation_frames length:', len(validation_frames))"
         ]
      },
      {
         "cell_type": "code",
         "execution_count": 6,
         "metadata": {},
         "outputs": [],
         "source": [
            "class ZodDataset(Dataset):\n",
            "    def __init__(self, zod_frames, frames_id_set, transform=None, target_transform=None):\n",
            "        self.zod_frames = zod_frames\n",
            "        self.frames_id_set = frames_id_set\n",
            "        self.transform = transform\n",
            "        self.target_transform = target_transform\n",
            "\n",
            "    def __len__(self):\n",
            "        return len(self.frames_id_set)\n",
            "\n",
            "    def __getitem__(self, idx):\n",
            "        frame_idx = self.frames_id_set[idx]\n",
            "        frame = self.zod_frames[frame_idx]\n",
            "        \n",
            "        image = frame.get_image(Anonymization.DNAT)\n",
            "        poses = frame.ego_motion.poses\n",
            "        x = poses[:,0:1,3]\n",
            "        y = poses[:,1:2,3]\n",
            "        z = poses[:,2:3,3]\n",
            "        coordinates = np.append(x,y)\n",
            "        coordinates = np.append(coordinates,z)\n",
            "        \n",
            "        label = coordinates.astype('float32')\n",
            "        image = image.astype('float32')\n",
            "        \n",
            "        if self.transform:\n",
            "            image = self.transform(image)\n",
            "        if self.target_transform:\n",
            "            label = self.target_transform(label)\n",
            "        \n",
            "        return image, label"
         ]
      },
      {
         "cell_type": "code",
         "execution_count": 7,
         "metadata": {
            "colab": {
               "base_uri": "https://localhost:8080/"
            },
            "id": "J4Em7BPNTXeX",
            "outputId": "17646d82-403d-4548-a298-83d9e276ff7d"
         },
         "outputs": [],
         "source": [
            "def load_datasets(num_clients: int):\n",
            "    transform = transforms.Compose([transforms.ToTensor(), transforms.Resize((IMG_SIZE,IMG_SIZE))])\n",
            "\n",
            "    trainset = ZodDataset(zod_frames=zod_frames, frames_id_set=training_frames, transform=transform)\n",
            "    testset = ZodDataset(zod_frames=zod_frames, frames_id_set=validation_frames, transform=transform)\n",
            "    \n",
            "    # Split training set into `num_clients` partitions to simulate different local datasets\n",
            "    partition_size = len(trainset) // num_clients\n",
            "    lengths = [partition_size] * (num_clients -1)\n",
            "    lengths.append(len(trainset) - sum(lengths))\n",
            "    datasets = random_split(trainset, lengths, torch.Generator().manual_seed(42))\n",
            "\n",
            "    # Split each partition into train/val and create DataLoader\n",
            "    trainloaders = []\n",
            "    valloaders = []\n",
            "    for ds in datasets:\n",
            "        len_val = len(ds) // VAL_PART  \n",
            "        len_train = len(ds) - len_val\n",
            "        lengths = [len_train, len_val]\n",
            "        ds_train, ds_val = random_split(ds, lengths, torch.Generator().manual_seed(42))\n",
            "        trainloaders.append(DataLoader(ds_train, batch_size=BATCH_SIZE, shuffle=True))\n",
            "        valloaders.append(DataLoader(ds_val, batch_size=BATCH_SIZE))\n",
            "    testloader = DataLoader(testset, batch_size=BATCH_SIZE)\n",
            "    return trainloaders, valloaders, testloader\n",
            "\n",
            "trainloaders, valloaders, testloader = load_datasets(NUM_CLIENTS)"
         ]
      },
      {
         "cell_type": "markdown",
         "metadata": {
            "id": "OBp7kB4G0sPB"
         },
         "source": [
            "### Models"
         ]
      },
      {
         "cell_type": "code",
         "execution_count": 8,
         "metadata": {},
         "outputs": [],
         "source": [
            "class Net(nn.Module):\n",
            "    def __init__(self):\n",
            "        super(Net, self).__init__()\n",
            "        self.is_pretrained=False\n",
            "        stride = 1\n",
            "        nr_cv = 2\n",
            "        # get the dimentions correct\n",
            "        size_before_fc = IMG_SIZE\n",
            "        for i in range(0,nr_cv): size_before_fc = (size_before_fc - 2*stride) // 2\n",
            "\n",
            "        self.conv = nn.Sequential(\n",
            "            nn.Conv2d(in_channels=3, out_channels=32, kernel_size=3, stride=stride, padding=0),\n",
            "            nn.ReLU(inplace=True),\n",
            "            nn.MaxPool2d(kernel_size=2),\n",
            "            nn.Dropout(p=0.2),\n",
            "\n",
            "            nn.Conv2d(in_channels=32, out_channels=64, kernel_size=3, stride=stride, padding=0),\n",
            "            nn.ReLU(inplace=True),\n",
            "            nn.MaxPool2d(kernel_size=2),\n",
            "            nn.Dropout(p=0.2),\n",
            "            \n",
            "            nn.Flatten(),\n",
            "            nn.Linear(size_before_fc*size_before_fc*64, 100),\n",
            "            nn.ReLU(inplace=True),\n",
            "            nn.Linear(100, NUM_OUTPUT),\n",
            "        )\n",
            "\n",
            "    def forward(self, x):\n",
            "        return np.squeeze(self.conv(x))\n",
            "\n",
            "    def model_parameters(self):\n",
            "        return self.parameters()\n",
            "\n",
            "class PTNet(nn.Module):\n",
            "    def __init__(self) -> None:\n",
            "        super(PTNet, self).__init__()\n",
            "        self.model = models.resnet18(weights=models.ResNet18_Weights.IMAGENET1K_V1)\n",
            "        self.is_pretrained=True\n",
            "\n",
            "        \"\"\"freeze parameters and replace head\"\"\"\n",
            "        for param in self.model.parameters():\n",
            "            param.requires_grad = False\n",
            "        self.change_head_net()\n",
            "\n",
            "    def forward(self, x: torch.Tensor) -> torch.Tensor:\n",
            "        return np.squeeze(self.model(x))\n",
            "\n",
            "    def model_parameters(self):\n",
            "        return self.get_head().parameters()\n",
            "\n",
            "    def change_head_fc(self):\n",
            "        num_ftrs = self.model.fc.in_features\n",
            "        self.model.fc = nn.Linear(num_ftrs, NUM_OUTPUT)\n",
            "\n",
            "    def change_head_net(self):\n",
            "        num_ftrs = self.model.fc.in_features\n",
            "        head_net = nn.Sequential(\n",
            "            nn.Linear(num_ftrs, 100, bias=True),\n",
            "            nn.ReLU(inplace=True),\n",
            "            nn.Linear(100, 100, bias=True),\n",
            "            nn.ReLU(inplace=True),\n",
            "            nn.Linear(100, NUM_OUTPUT, bias=True),\n",
            "        )\n",
            "        self.model.fc = head_net\n",
            "\n",
            "    def get_head(self):\n",
            "        return self.model.fc"
         ]
      },
      {
         "cell_type": "markdown",
         "metadata": {},
         "source": [
            "### Training, evaluation and utilities"
         ]
      },
      {
         "cell_type": "code",
         "execution_count": 9,
         "metadata": {},
         "outputs": [],
         "source": [
            "def train(net,trainloader, valloader, \n",
            "          epochs: int, contin_val=True, plot = True,\n",
            "          client_cid=None, verbose=0, model_name=\"\"):\n",
            "    \n",
            "    \"\"\"Train the network on the training set.\"\"\"\n",
            "    print(f'⇉ Started transfer learning of model {model_name}' if net.is_pretrained else f'Started normal learning of model {model_name}')\n",
            "    num_batches = len(trainloader)\n",
            "    print_every = (num_batches // 3) if (num_batches // 3) != 0 else 1\n",
            "    \n",
            "    criterion = torch.nn.CrossEntropyLoss() if ML_TASK == TASK.CLASSIFICATION else torch.nn.MSELoss()\n",
            "    optimizer = torch.optim.Adam(net.model_parameters())\n",
            "    net.train()\n",
            "    \n",
            "    losses = []; accs = []; val_losses = []; val_accs = [];\n",
            "    for epoch in range(epochs):\n",
            "        correct, total, epoch_acc, epoch_val_accuracy = 0, 0, 0.0, 0.0;\n",
            "        epoch_loss = []\n",
            "        for batch_index, (images, labels) in enumerate(trainloader):\n",
            "            images, labels = images.to(DEVICE), labels.to(DEVICE)\n",
            "            optimizer.zero_grad()\n",
            "            outputs = net(images)\n",
            "            loss = criterion(outputs, labels)\n",
            "            loss.backward()\n",
            "            optimizer.step()\n",
            "            \n",
            "            # Metrics\n",
            "            epoch_loss.append(loss.item())\n",
            "            total += labels.size(0)\n",
            "            \n",
            "            if(ML_TASK == TASK.CLASSIFICATION):\n",
            "                correct += (torch.max(outputs.data, 1)[1] == labels).sum().item()\n",
            "                \n",
            "            if batch_index % print_every == 0 and verbose>0:\n",
            "                print(f\"\\tBatch {batch_index}/{num_batches}: Train loss: {sum(epoch_loss[-print_every:])/print_every:.3f}, \")\n",
            "        \n",
            "        epoch_loss = np.mean(epoch_loss)\n",
            "        epoch_val_loss, epoch_val_accuracy = test(net, valloader)\n",
            "        losses.append(epoch_loss); \n",
            "        val_losses.append(epoch_val_loss);\n",
            "        \n",
            "        if(ML_TASK == TASK.CLASSIFICATION):\n",
            "            epoch_acc = correct / total\n",
            "            accs.append(epoch_acc);\n",
            "            val_accs.append(epoch_val_accuracy);\n",
            "            \n",
            "            print(f\" ↪ Client{client_cid} Epoch {epoch+1}: train loss {epoch_loss}, accuracy {epoch_acc}, val loss {epoch_val_loss}, accuracy {epoch_val_accuracy}\")\n",
            "        else: \n",
            "            print(f\" ↪ Client{client_cid} Epoch {epoch+1}: train loss {epoch_loss},\\t val loss {epoch_val_loss}\")\n",
            "\n",
            "    if(plot):\n",
            "      if(ML_TASK == TASK.CLASSIFICATION):\n",
            "          fig, ax = plt.subplots(ncols=2, figsize=(8,4))\n",
            "          plot_metrics(ax, [[losses,val_losses],[accs,val_accs]], [f'Corss Entropy Loss - model {model_name}',f'Accuracy - model {model_name}'], ['Number of epochs','Number of epochs'], [['Train', 'Val'],['Train', 'Val']])\n",
            "      else: \n",
            "          fig, ax = plt.subplots(ncols=1, figsize=(8,4))\n",
            "          plot_metrics([ax], [[losses,val_losses]], [f'RMSE Loss - model {model_name}'], [f'Number of epochs - model {model_name}'], [['Train', 'Val']])\n",
            "        \n",
            "    if(client_cid):\n",
            "        save_model(net, client_cid)\n",
            "    \n",
            "    print(\"For manual plotting:\")\n",
            "    print(f\"Client{client_cid} Train losses = {losses}\")\n",
            "    print(f\"Client{client_cid} Val_losses = {val_losses}\")\n",
            "    return losses, accs, val_losses, val_accs\n",
            "\n",
            "\n",
            "def test(net, testloader):\n",
            "    \"\"\"Evaluate the network on the entire test set.\"\"\"\n",
            "    criterion = torch.nn.CrossEntropyLoss() if ML_TASK == TASK.CLASSIFICATION else torch.nn.MSELoss()\n",
            "    correct, total = 0, 0\n",
            "    net.eval()\n",
            "    loss = []\n",
            "    with torch.no_grad():\n",
            "        for images, labels in testloader:\n",
            "            images, labels = images.to(DEVICE), labels.to(DEVICE)\n",
            "            outputs = net(images)\n",
            "            outputs = outputs.unsqueeze(0) if outputs.shape[0] != 1 else outputs\n",
            "            labels = labels.unsqueeze(0) if labels.shape[0] != 1 else labels\n",
            "            loss.append(criterion(outputs, labels).item())\n",
            "\n",
            "            if(ML_TASK == TASK.CLASSIFICATION):\n",
            "                _, predicted = torch.max(outputs.data, 1)\n",
            "                total += labels.size(0)\n",
            "                correct += (predicted == labels).sum().item()\n",
            "    loss = np.mean(loss)\n",
            "    accuracy = correct / total if ML_TASK == TASK.CLASSIFICATION else None\n",
            "    return loss, accuracy\n",
            "\n",
            "\n",
            "def get_parameters(net) -> List[np.ndarray]:\n",
            "    if(PRINT_DEBUG_DATA): print(\"⤺ Get model parameters\")\n",
            "    return [val.cpu().numpy() for _, val in net.state_dict().items()]\n",
            "\n",
            "def set_parameters(net, parameters: List[np.ndarray]):\n",
            "    if(PRINT_DEBUG_DATA): print(\"⤻ Set model parameters\")\n",
            "    params_dict = zip(net.state_dict().keys(), parameters)\n",
            "    state_dict = OrderedDict({k: torch.Tensor(v) if v.shape != torch.Size([]) else torch.Tensor([0]) for k, v in params_dict})\n",
            "    net.load_state_dict(state_dict, strict=True)\n",
            "\n",
            "def save_model(net, name):\n",
            "    print(f\"🔒 Saved the model of client {name} to the disk. 🔒\")\n",
            "    torch.save(net.state_dict(), f'{name}.pth')\n",
            "\n",
            "def load_model(name):\n",
            "    print(f\"🛅 Loaded the model of client {name} from the disk. 🛅\")\n",
            "    net = net_instance(f\"{name}\")\n",
            "    net = net.load_state_dict(torch.load(f'{name}.pth'))\n",
            "    add_active_model(net)\n",
            "    return net\n",
            "\n",
            "def print_gpu_processes(extra_info=None):\n",
            "    try:\n",
            "        if(extra_info):\n",
            "            print(extra_info, torch.cuda.list_gpu_processes())\n",
            "        else:\n",
            "            print(torch.cuda.list_gpu_processes())\n",
            "    except: pass\n",
            "    \n",
            "def clear_gpu():\n",
            "    print_gpu_processes()\n",
            "    print(\"started clearing the GPU RAM.\")\n",
            "    try:\n",
            "        gc.collect()\n",
            "        torch.cuda.empty_cache()\n",
            "    except:\n",
            "        print(\"Could not clear the GPU RAM.\")\n",
            "    print_gpu_processes()\n",
            "    print(\"Done clearing the GPU RAM.\")\n",
            "\n",
            "def add_active_model(m):\n",
            "    active_models.append(m)\n",
            "    \n",
            "def plot_metrics(axs, metrics, titles, xlabels, legends, ylim=None):\n",
            "    for i, ax in enumerate(axs):\n",
            "        for m in metrics[i]:\n",
            "          ax.plot(m)\n",
            "        ax.set_title(titles[i])\n",
            "        ax.set_xlabel(xlabels[i])\n",
            "        ax.legend(legends[i])\n",
            "        if ylim:\n",
            "            ax.set_ylim(ylim)\n",
            "    \n",
            "def net_instance(name):\n",
            "    net = PTNet().to(DEVICE) if RUN_PRETRAINED else Net().to(DEVICE)\n",
            "    print(f\"🌻 Created new model - {name} 🌻\")\n",
            "    return net\n",
            "\n",
            "def destroy_model(model, name):\n",
            "    print_gpu_processes(f\"⍤ [show gpu process usage before destroying model {name}] ⍤\")\n",
            "    model=model.cpu()\n",
            "    #odel.destroy()\n",
            "    del model\n",
            "    print(f\"꧁ destroyed model - {name} ꧂\")\n",
            "    print_gpu_processes(f\"⍤ [show gpu process usage after destroying model {name}] ⍤\")\n",
            "\n",
            "def use_cpu(model=None):\n",
            "    print(\"swiched to cpu\")\n",
            "    DEVICE = torch.device('cpu')\n",
            "    if(model):\n",
            "        model=model.cpu()\n",
            "\n",
            "def use_gpu():\n",
            "    print(\"swiched to gpu\")\n",
            "    DEVICE = torch.device('cuda')\n",
            "\n",
            "def plot_client_losses(clients_data):\n",
            "    for client in clients_data:\n",
            "        fig, ax = plt.subplots(ncols=1, figsize=(8,4))\n",
            "        plot_metrics([ax], [[client.losses,client.val_losses]], ['RMSE Loss'], ['Number of epochs'], [['Train', 'Val']])"
         ]
      },
      {
         "cell_type": "markdown",
         "metadata": {},
         "source": [
            "# Centralized Settings"
         ]
      },
      {
         "cell_type": "markdown",
         "metadata": {},
         "source": [
            "### Hyper parameters"
         ]
      },
      {
         "cell_type": "code",
         "execution_count": null,
         "metadata": {},
         "outputs": [],
         "source": [
            "# Hyper parameters & Dataset class\n",
            "NUM_CLIENTS = 5\n",
            "NUM_OUTPUT = 66\n",
            "IMG_SIZE = 160\n",
            "RUN_PRETRAINED = True\n",
            "ML_TASK = TASK.REGRESSION\n",
            "BATCH_SIZE=8\n",
            "VAL_PART=10\n",
            "SUBSET_RATIO = 0.003\n",
            "USE_GPU=False\n",
            "NUM_GLOBAL_ROUNDS = 2\n",
            "NUM_LOCAL_EPOCHS = 6\n",
            "PRINT_DEBUG_DATA=True\n",
            "\n",
            "DEVICE = torch.device('cuda' if USE_GPU else 'cpu')"
         ]
      },
      {
         "cell_type": "code",
         "execution_count": null,
         "metadata": {},
         "outputs": [
            {
               "name": "stdout",
               "output_type": "stream",
               "text": [
                  "training_frames length: 269\n",
                  "validation_frames length: 30\n"
               ]
            }
         ],
         "source": [
            "training_frames = training_frames_all[:int(len(training_frames_all) * SUBSET_RATIO)]\n",
            "validation_frames = validation_frames_all[:int(len(validation_frames_all) * SUBSET_RATIO)]\n",
            "\n",
            "print('training_frames length:', len(training_frames))\n",
            "print('validation_frames length:', len(validation_frames))"
         ]
      },
      {
         "cell_type": "code",
         "execution_count": null,
         "metadata": {},
         "outputs": [],
         "source": [
            "trainloaders, valloaders, testloader = load_datasets(NUM_CLIENTS)"
         ]
      },
      {
         "cell_type": "code",
         "execution_count": null,
         "metadata": {},
         "outputs": [
            {
               "name": "stdout",
               "output_type": "stream",
               "text": [
                  "GPU:0\n",
                  "no processes are running\n",
                  "started clearing the GPU RAM.\n",
                  "GPU:0\n",
                  "no processes are running\n",
                  "Done clearing the GPU RAM.\n",
                  "🌻 Created new model - Centralized 🌻\n",
                  "nr of training imgs: 121\n",
                  "nr of validation imgs: 13\n",
                  "nr of test imgs: 30\n",
                  "input shape: torch.Size([3, 160, 160])\n",
                  "output shape: (66,)\n",
                  "training on cpu\n",
                  "⇉ Started transfer learning of model Centralized\n"
               ]
            },
            {
               "name": "stderr",
               "output_type": "stream",
               "text": [
                  "/home/s0001721/anaconda3/envs/zen/lib/python3.9/site-packages/torch/nn/modules/loss.py:530: UserWarning: Using a target size (torch.Size([1, 66])) that is different to the input size (torch.Size([66])). This will likely lead to incorrect results due to broadcasting. Please ensure they have the same size.\n",
                  "  return F.mse_loss(input, target, reduction=self.reduction)\n"
               ]
            },
            {
               "name": "stdout",
               "output_type": "stream",
               "text": [
                  " ↪ ClientNone Epoch 1: train loss 1652.0017204284668,\t val loss 2061.3154296875\n",
                  " ↪ ClientNone Epoch 2: train loss 1036.9758615493774,\t val loss 863.8117370605469\n",
                  " ↪ ClientNone Epoch 3: train loss 686.5182523727417,\t val loss 741.528076171875\n",
                  " ↪ ClientNone Epoch 4: train loss 599.2919626235962,\t val loss 820.8211669921875\n",
                  " ↪ ClientNone Epoch 5: train loss 534.4438186883926,\t val loss 655.2718200683594\n",
                  " ↪ ClientNone Epoch 6: train loss 532.6898231506348,\t val loss 666.30908203125\n",
                  " ↪ ClientNone Epoch 7: train loss 509.09375381469727,\t val loss 630.7112731933594\n",
                  " ↪ ClientNone Epoch 8: train loss 440.7629249095917,\t val loss 556.47412109375\n",
                  " ↪ ClientNone Epoch 9: train loss 401.99180912971497,\t val loss 499.12355041503906\n",
                  " ↪ ClientNone Epoch 10: train loss 392.43972063064575,\t val loss 490.9909362792969\n",
                  "For manual plotting:\n",
                  "ClientNone Train losses = [1652.0017204284668, 1036.9758615493774, 686.5182523727417, 599.2919626235962, 534.4438186883926, 532.6898231506348, 509.09375381469727, 440.7629249095917, 401.99180912971497, 392.43972063064575]\n",
                  "ClientNone Val_losses = [2061.3154296875, 863.8117370605469, 741.528076171875, 820.8211669921875, 655.2718200683594, 666.30908203125, 630.7112731933594, 556.47412109375, 499.12355041503906, 490.9909362792969]\n",
                  "►►► test RMSE 432.1087112426758\n"
               ]
            },
            {
               "data": {
                  "text/plain": [
                     "(432.1087112426758, 2, {'accuracy': None})"
                  ]
               },
               "execution_count": 26,
               "metadata": {},
               "output_type": "execute_result"
            },
            {
               "data": {
                  "image/png": "[encoded data removed]",
                  "text/plain": [
                     "<Figure size 800x400 with 1 Axes>"
                  ]
               },
               "metadata": {},
               "output_type": "display_data"
            },
            {
               "name": "stderr",
               "output_type": "stream",
               "text": [
                  "*** SIGTERM received at time=1676272012 on cpu 0 ***\n",
                  "PC: @     0x7fcb61d1746e  (unknown)  epoll_wait\n",
                  "    @     0x7fcb61f58420  (unknown)  (unknown)\n",
                  "[2023-02-13 08:06:52,057 E 2172628 2172628] logging.cc:361: *** SIGTERM received at time=1676272012 on cpu 0 ***\n",
                  "[2023-02-13 08:06:52,057 E 2172628 2172628] logging.cc:361: PC: @     0x7fcb61d1746e  (unknown)  epoll_wait\n",
                  "[2023-02-13 08:06:52,057 E 2172628 2172628] logging.cc:361:     @     0x7fcb61f58420  (unknown)  (unknown)\n"
               ]
            }
         ],
         "source": [
            "def run_centralized(print_summery=False):\n",
            "    # clear gpu\n",
            "    clear_gpu()\n",
            "    \n",
            "    # create the net\n",
            "    net = net_instance(\"Centralized\")\n",
            "    \n",
            "    # data\n",
            "    trainloader = trainloaders[0]\n",
            "    valloader = valloaders[0]\n",
            "    \n",
            "    # summery\n",
            "    print('nr of training imgs:', len(trainloader.dataset))\n",
            "    print('nr of validation imgs:', len(valloader.dataset))\n",
            "    print('nr of test imgs:', len(testloader.dataset))\n",
            "    print('input shape:', trainloader.dataset[0][0].shape)\n",
            "    print('output shape:', trainloader.dataset[0][1].shape)\n",
            "    print(f'training on {DEVICE}')\n",
            "    if(print_summery): print(summary(net, input_shape))\n",
            "        \n",
            "    # train & val\n",
            "    train_losses, train_accs, val_losses, val_accs = train(\n",
            "        net, \n",
            "        trainloader, \n",
            "        valloader, \n",
            "        epochs=NUM_LOCAL_EPOCHS,\n",
            "        contin_val=True, \n",
            "        plot=True,\n",
            "        verbose=0, \n",
            "        model_name=f\"Centralized\"\n",
            "        )\n",
            "    loss, accuracy = test(net, testloader)\n",
            "    if(ML_TASK == TASK.CLASSIFICATION): print(f\"►►► test loss {loss}, accuracy {accuracy}\")\n",
            "    else: print(f\"►►► test RMSE {loss}\")\n",
            "        \n",
            "    return float(loss), len(valloader), {\"accuracy\": float(accuracy) if accuracy else None}\n",
            "\n",
            "run_centralized(print_summery=False)"
         ]
      },
      {
         "cell_type": "markdown",
         "metadata": {
            "id": "a0KoEc7htVQf"
         },
         "source": [
            "# Federated Settings\n"
         ]
      },
      {
         "cell_type": "markdown",
         "metadata": {
            "id": "1lCf3oljdClM"
         },
         "source": [
            "### Flower client"
         ]
      },
      {
         "cell_type": "code",
         "execution_count": null,
         "metadata": {
            "id": "ye6Jt5p3LWtF"
         },
         "outputs": [],
         "source": [
            "class FlowerClient(fl.client.NumPyClient):\n",
            "    def __init__(self, cid, net, trainloader, valloader):\n",
            "        self.cid = cid\n",
            "        self.net = net\n",
            "        self.trainloader = trainloader\n",
            "        self.valloader = valloader\n",
            "        self.losses=[]\n",
            "        self.val_losses=[]\n",
            "\n",
            "    def get_parameters(self, config):\n",
            "        print(f\"⤺ Get model parameters of client {self.cid}]\")\n",
            "        return get_parameters(self.net)\n",
            "\n",
            "    def fit(self, parameters, config):\n",
            "        print(f\"○ started local training of client {self.cid}]\")\n",
            "        set_parameters(self.net, parameters)\n",
            "        losses, accs, val_losses, val_accs=train(\n",
            "            self.net, \n",
            "            self.trainloader, \n",
            "            self.valloader, \n",
            "            epochs=NUM_LOCAL_EPOCHS,\n",
            "            contin_val=True, \n",
            "            plot=True,\n",
            "            verbose=0, \n",
            "            client_cid=self.cid,\n",
            "            model_name=f\"client {self.cid}\"\n",
            "        )\n",
            "        self.losses.append(losses)\n",
            "        self.val_losses.append(val_losses)\n",
            "        params = get_parameters(self.net)\n",
            "        save_model(self.net, self.cid)\n",
            "        return params, len(self.trainloader), {}\n",
            "\n",
            "    def evaluate(self, parameters, config):\n",
            "        print(f\"[Client {self.cid}] evaluate, config: {config}\")\n",
            "        if(not self.net):\n",
            "            self.net = load_model(self.cid)\n",
            "        set_parameters(self.net, parameters)\n",
            "        loss, accuracy = test(self.net, self.valloader)\n",
            "        if(ML_TASK == TASK.CLASSIFICATION): \n",
            "            print(f\"🌠 [Client {self.cid}] test loss {loss}, accuracy {accuracy}\")\n",
            "            return float(loss), len(self.valloader), {\"accuracy\": float(accuracy)}\n",
            "        else: \n",
            "            print(f\"🌠 [Client {self.cid}] test RMSE {loss}\")\n",
            "            return float(loss), len(self.valloader), {\"loss\": float(loss)}\n",
            "\n",
            "\n",
            "def client_fn(cid) -> FlowerClient:\n",
            "    net = net_instance(f\"client {cid}\")\n",
            "    trainloader = trainloaders[int(cid)]\n",
            "    valloader = valloaders[int(cid)]\n",
            "    client=FlowerClient(cid, net, trainloader, valloader)\n",
            "    return client"
         ]
      },
      {
         "cell_type": "markdown",
         "metadata": {
            "id": "YqnRgtiMvI-f"
         },
         "source": [
            "Let's test what we have so far before we continue:"
         ]
      },
      {
         "cell_type": "code",
         "execution_count": null,
         "metadata": {
            "colab": {
               "base_uri": "https://localhost:8080/"
            },
            "id": "9enZUOD1vI-f",
            "outputId": "2bf813cd-f1b7-4601-b986-114471cea938"
         },
         "outputs": [
            {
               "name": "stderr",
               "output_type": "stream",
               "text": [
                  "INFO flwr 2023-02-13 01:10:00,885 | app.py:145 | Starting Flower simulation, config: ServerConfig(num_rounds=3, round_timeout=None)\n"
               ]
            },
            {
               "name": "stdout",
               "output_type": "stream",
               "text": [
                  "🌻 Created new model - server 🌻\n",
                  "⤺ Get model parameters\n"
               ]
            },
            {
               "name": "stderr",
               "output_type": "stream",
               "text": [
                  "2023-02-13 01:10:03,226\tINFO worker.py:1529 -- Started a local Ray instance. View the dashboard at \u001b[1m\u001b[32m127.0.0.1:8265 \u001b[39m\u001b[22m\n",
                  "INFO flwr 2023-02-13 01:10:03,998 | app.py:179 | Flower VCE: Ray initialized with resources: {'memory': 14153792718.0, 'node:192.168.0.46': 1.0, 'accelerator_type:P2000': 1.0, 'CPU': 12.0, 'object_store_memory': 7076896358.0, 'GPU': 1.0}\n",
                  "INFO flwr 2023-02-13 01:10:03,999 | server.py:86 | Initializing global parameters\n",
                  "INFO flwr 2023-02-13 01:10:03,999 | server.py:266 | Using initial parameters provided by strategy\n",
                  "INFO flwr 2023-02-13 01:10:03,999 | server.py:88 | Evaluating initial parameters\n"
               ]
            },
            {
               "name": "stdout",
               "output_type": "stream",
               "text": [
                  "🌻 Created new model - server 🌻\n",
                  "⤻ Set model parameters\n"
               ]
            },
            {
               "name": "stderr",
               "output_type": "stream",
               "text": [
                  "INFO flwr 2023-02-13 01:10:06,889 | server.py:91 | initial parameters (loss, other metrics): 2393.1879272460938, {}\n",
                  "INFO flwr 2023-02-13 01:10:06,890 | server.py:101 | FL starting\n",
                  "DEBUG flwr 2023-02-13 01:10:06,891 | server.py:215 | fit_round 1: strategy sampled 2 clients (out of 2)\n"
               ]
            },
            {
               "name": "stdout",
               "output_type": "stream",
               "text": [
                  "🔒 Saved the model of client server to the disk. 🔒\n",
                  "Server-side evaluation loss 2393.1879272460938\n",
                  "⍤ [show gpu process usage before destroying model server] ⍤ GPU:0\n",
                  "no processes are running\n",
                  "꧁ destroyed model - server ꧂\n",
                  "⍤ [show gpu process usage after destroying model server] ⍤ GPU:0\n",
                  "no processes are running\n",
                  "\u001b[2m\u001b[36m(launch_and_fit pid=2173007)\u001b[0m 🌻 Created new model - client 1 🌻\n",
                  "\u001b[2m\u001b[36m(launch_and_fit pid=2173007)\u001b[0m ○ started local training of client 1]\n",
                  "\u001b[2m\u001b[36m(launch_and_fit pid=2173007)\u001b[0m ⤻ Set model parameters\n",
                  "\u001b[2m\u001b[36m(launch_and_fit pid=2173007)\u001b[0m ⇉ Started transfer learning of model client 1\n",
                  "\u001b[2m\u001b[36m(launch_and_fit pid=2172999)\u001b[0m 🌻 Created new model - client 0 🌻\n",
                  "\u001b[2m\u001b[36m(launch_and_fit pid=2172999)\u001b[0m ○ started local training of client 0]\n",
                  "\u001b[2m\u001b[36m(launch_and_fit pid=2172999)\u001b[0m ⤻ Set model parameters\n",
                  "\u001b[2m\u001b[36m(launch_and_fit pid=2172999)\u001b[0m ⇉ Started transfer learning of model client 0\n"
               ]
            },
            {
               "name": "stderr",
               "output_type": "stream",
               "text": [
                  "\u001b[2m\u001b[36m(launch_and_fit pid=2172999)\u001b[0m /home/s0001721/anaconda3/envs/zen/lib/python3.9/site-packages/torch/nn/modules/loss.py:530: UserWarning: Using a target size (torch.Size([1, 66])) that is different to the input size (torch.Size([66])). This will likely lead to incorrect results due to broadcasting. Please ensure they have the same size.\n",
                  "\u001b[2m\u001b[36m(launch_and_fit pid=2172999)\u001b[0m   return F.mse_loss(input, target, reduction=self.reduction)\n"
               ]
            },
            {
               "name": "stdout",
               "output_type": "stream",
               "text": [
                  "\u001b[2m\u001b[36m(launch_and_fit pid=2173007)\u001b[0m  ↪ Client1 Epoch 1: train loss 1608.9012336730957,\t val loss 1401.1082153320312\n",
                  "\u001b[2m\u001b[36m(launch_and_fit pid=2172999)\u001b[0m  ↪ Client0 Epoch 1: train loss 1690.6444549560547,\t val loss 1956.8177490234375\n",
                  "\u001b[2m\u001b[36m(launch_and_fit pid=2173007)\u001b[0m  ↪ Client1 Epoch 2: train loss 832.783745765686,\t val loss 616.7889404296875\n",
                  "\u001b[2m\u001b[36m(launch_and_fit pid=2172999)\u001b[0m  ↪ Client0 Epoch 2: train loss 1014.9412422180176,\t val loss 823.3482666015625\n",
                  "\u001b[2m\u001b[36m(launch_and_fit pid=2173007)\u001b[0m  ↪ Client1 Epoch 3: train loss 635.5203704833984,\t val loss 579.5692901611328\n",
                  "\u001b[2m\u001b[36m(launch_and_fit pid=2172999)\u001b[0m  ↪ Client0 Epoch 3: train loss 614.5361881256104,\t val loss 803.9219360351562\n",
                  "\u001b[2m\u001b[36m(launch_and_fit pid=2172999)\u001b[0m  ↪ Client0 Epoch 4: train loss 612.3685903549194,\t val loss 743.2051086425781\n",
                  "\u001b[2m\u001b[36m(launch_and_fit pid=2173007)\u001b[0m  ↪ Client1 Epoch 4: train loss 558.8975772857666,\t val loss 546.1353607177734\n",
                  "\u001b[2m\u001b[36m(launch_and_fit pid=2172999)\u001b[0m  ↪ Client0 Epoch 5: train loss 610.2107501029968,\t val loss 714.6019287109375\n",
                  "\u001b[2m\u001b[36m(launch_and_fit pid=2173007)\u001b[0m  ↪ Client1 Epoch 5: train loss 542.4425792694092,\t val loss 517.1003112792969\n",
                  "\u001b[2m\u001b[36m(launch_and_fit pid=2172999)\u001b[0m  ↪ Client0 Epoch 6: train loss 512.6537094116211,\t val loss 685.8788146972656\n",
                  "\u001b[2m\u001b[36m(launch_and_fit pid=2173007)\u001b[0m  ↪ Client1 Epoch 6: train loss 494.491247177124,\t val loss 504.98468017578125\n",
                  "\u001b[2m\u001b[36m(launch_and_fit pid=2173007)\u001b[0m  ↪ Client1 Epoch 7: train loss 441.5395040512085,\t val loss 454.2438507080078\n",
                  "\u001b[2m\u001b[36m(launch_and_fit pid=2172999)\u001b[0m  ↪ Client0 Epoch 7: train loss 508.1816186904907,\t val loss 636.6861877441406\n",
                  "\u001b[2m\u001b[36m(launch_and_fit pid=2173007)\u001b[0m  ↪ Client1 Epoch 8: train loss 390.25145626068115,\t val loss 417.70489501953125\n",
                  "\u001b[2m\u001b[36m(launch_and_fit pid=2172999)\u001b[0m  ↪ Client0 Epoch 8: train loss 726.1283893585205,\t val loss 585.3804016113281\n",
                  "\u001b[2m\u001b[36m(launch_and_fit pid=2173007)\u001b[0m  ↪ Client1 Epoch 9: train loss 338.12886476516724,\t val loss 372.22084045410156\n",
                  "\u001b[2m\u001b[36m(launch_and_fit pid=2172999)\u001b[0m  ↪ Client0 Epoch 9: train loss 478.2240810394287,\t val loss 520.2999877929688\n",
                  "\u001b[2m\u001b[36m(launch_and_fit pid=2172999)\u001b[0m  ↪ Client0 Epoch 10: train loss 363.8907632827759,\t val loss 480.45567321777344\n",
                  "\u001b[2m\u001b[36m(launch_and_fit pid=2172999)\u001b[0m 🔒 Saved the model of client 0 to the disk. 🔒\n",
                  "\u001b[2m\u001b[36m(launch_and_fit pid=2172999)\u001b[0m For manual plotting:\n",
                  "\u001b[2m\u001b[36m(launch_and_fit pid=2172999)\u001b[0m Client0 Train losses = [1690.6444549560547, 1014.9412422180176, 614.5361881256104, 612.3685903549194, 610.2107501029968, 512.6537094116211, 508.1816186904907, 726.1283893585205, 478.2240810394287, 363.8907632827759]\n",
                  "\u001b[2m\u001b[36m(launch_and_fit pid=2172999)\u001b[0m Client0 Val_losses = [1956.8177490234375, 823.3482666015625, 803.9219360351562, 743.2051086425781, 714.6019287109375, 685.8788146972656, 636.6861877441406, 585.3804016113281, 520.2999877929688, 480.45567321777344]\n",
                  "\u001b[2m\u001b[36m(launch_and_fit pid=2172999)\u001b[0m ⤺ Get model parameters\n",
                  "\u001b[2m\u001b[36m(launch_and_fit pid=2172999)\u001b[0m 🔒 Saved the model of client 0 to the disk. 🔒\n",
                  "\u001b[2m\u001b[36m(launch_and_fit pid=2173007)\u001b[0m  ↪ Client1 Epoch 10: train loss 295.681458234787,\t val loss 331.12831115722656\n"
               ]
            },
            {
               "name": "stderr",
               "output_type": "stream",
               "text": [
                  "DEBUG flwr 2023-02-13 01:15:30,987 | server.py:229 | fit_round 1 received 2 results and 0 failures\n"
               ]
            },
            {
               "name": "stdout",
               "output_type": "stream",
               "text": [
                  "\u001b[2m\u001b[36m(launch_and_fit pid=2173007)\u001b[0m 🔒 Saved the model of client 1 to the disk. 🔒\n",
                  "\u001b[2m\u001b[36m(launch_and_fit pid=2173007)\u001b[0m For manual plotting:\n",
                  "\u001b[2m\u001b[36m(launch_and_fit pid=2173007)\u001b[0m Client1 Train losses = [1608.9012336730957, 832.783745765686, 635.5203704833984, 558.8975772857666, 542.4425792694092, 494.491247177124, 441.5395040512085, 390.25145626068115, 338.12886476516724, 295.681458234787]\n",
                  "\u001b[2m\u001b[36m(launch_and_fit pid=2173007)\u001b[0m Client1 Val_losses = [1401.1082153320312, 616.7889404296875, 579.5692901611328, 546.1353607177734, 517.1003112792969, 504.98468017578125, 454.2438507080078, 417.70489501953125, 372.22084045410156, 331.12831115722656]\n",
                  "\u001b[2m\u001b[36m(launch_and_fit pid=2173007)\u001b[0m ⤺ Get model parameters\n",
                  "\u001b[2m\u001b[36m(launch_and_fit pid=2173007)\u001b[0m 🔒 Saved the model of client 1 to the disk. 🔒\n"
               ]
            },
            {
               "name": "stderr",
               "output_type": "stream",
               "text": [
                  "WARNING flwr 2023-02-13 01:15:31,080 | fedavg.py:242 | No fit_metrics_aggregation_fn provided\n"
               ]
            },
            {
               "name": "stdout",
               "output_type": "stream",
               "text": [
                  "🌻 Created new model - server 🌻\n",
                  "⤻ Set model parameters\n"
               ]
            },
            {
               "name": "stderr",
               "output_type": "stream",
               "text": [
                  "INFO flwr 2023-02-13 01:15:33,054 | server.py:116 | fit progress: (1, 529.5398559570312, {}, 326.1632797389757)\n",
                  "DEBUG flwr 2023-02-13 01:15:33,055 | server.py:165 | evaluate_round 1: strategy sampled 2 clients (out of 2)\n"
               ]
            },
            {
               "name": "stdout",
               "output_type": "stream",
               "text": [
                  "🔒 Saved the model of client server to the disk. 🔒\n",
                  "Server-side evaluation loss 529.5398559570312\n",
                  "⍤ [show gpu process usage before destroying model server] ⍤ GPU:0\n",
                  "no processes are running\n",
                  "꧁ destroyed model - server ꧂\n",
                  "⍤ [show gpu process usage after destroying model server] ⍤ GPU:0\n",
                  "no processes are running\n",
                  "\u001b[2m\u001b[36m(launch_and_evaluate pid=2173007)\u001b[0m 🌻 Created new model - client 1 🌻\n",
                  "\u001b[2m\u001b[36m(launch_and_evaluate pid=2173007)\u001b[0m [Client 1] evaluate, config: {}\n",
                  "\u001b[2m\u001b[36m(launch_and_evaluate pid=2173007)\u001b[0m ⤻ Set model parameters\n",
                  "\u001b[2m\u001b[36m(launch_and_evaluate pid=2172999)\u001b[0m 🌻 Created new model - client 0 🌻\n",
                  "\u001b[2m\u001b[36m(launch_and_evaluate pid=2172999)\u001b[0m [Client 0] evaluate, config: {}\n",
                  "\u001b[2m\u001b[36m(launch_and_evaluate pid=2172999)\u001b[0m ⤻ Set model parameters\n"
               ]
            },
            {
               "name": "stderr",
               "output_type": "stream",
               "text": [
                  "DEBUG flwr 2023-02-13 01:16:14,040 | server.py:179 | evaluate_round 1 received 2 results and 0 failures\n",
                  "WARNING flwr 2023-02-13 01:16:14,040 | fedavg.py:273 | No evaluate_metrics_aggregation_fn provided\n",
                  "DEBUG flwr 2023-02-13 01:16:14,041 | server.py:215 | fit_round 2: strategy sampled 2 clients (out of 2)\n"
               ]
            },
            {
               "name": "stdout",
               "output_type": "stream",
               "text": [
                  "\u001b[2m\u001b[36m(launch_and_evaluate pid=2173007)\u001b[0m 🌠 [Client 1] test RMSE 344.38194274902344\n",
                  "\u001b[2m\u001b[36m(launch_and_evaluate pid=2172999)\u001b[0m 🌠 [Client 0] test RMSE 529.5398559570312\n",
                  "\u001b[2m\u001b[36m(launch_and_fit pid=2172999)\u001b[0m 🌻 Created new model - client 0 🌻\n",
                  "\u001b[2m\u001b[36m(launch_and_fit pid=2172999)\u001b[0m ○ started local training of client 0]\n",
                  "\u001b[2m\u001b[36m(launch_and_fit pid=2172999)\u001b[0m ⤻ Set model parameters\n",
                  "\u001b[2m\u001b[36m(launch_and_fit pid=2172999)\u001b[0m ⇉ Started transfer learning of model client 0\n",
                  "\u001b[2m\u001b[36m(launch_and_fit pid=2173007)\u001b[0m 🌻 Created new model - client 1 🌻\n",
                  "\u001b[2m\u001b[36m(launch_and_fit pid=2173007)\u001b[0m ○ started local training of client 1]\n",
                  "\u001b[2m\u001b[36m(launch_and_fit pid=2173007)\u001b[0m ⤻ Set model parameters\n",
                  "\u001b[2m\u001b[36m(launch_and_fit pid=2173007)\u001b[0m ⇉ Started transfer learning of model client 1\n"
               ]
            },
            {
               "name": "stderr",
               "output_type": "stream",
               "text": [
                  "\u001b[2m\u001b[36m(launch_and_fit pid=2172999)\u001b[0m /home/s0001721/anaconda3/envs/zen/lib/python3.9/site-packages/torch/nn/modules/loss.py:530: UserWarning: Using a target size (torch.Size([1, 66])) that is different to the input size (torch.Size([66])). This will likely lead to incorrect results due to broadcasting. Please ensure they have the same size.\n",
                  "\u001b[2m\u001b[36m(launch_and_fit pid=2172999)\u001b[0m   return F.mse_loss(input, target, reduction=self.reduction)\n"
               ]
            },
            {
               "name": "stdout",
               "output_type": "stream",
               "text": [
                  "\u001b[2m\u001b[36m(launch_and_fit pid=2173007)\u001b[0m  ↪ Client1 Epoch 1: train loss 390.3576135635376,\t val loss 292.5580139160156\n",
                  "\u001b[2m\u001b[36m(launch_and_fit pid=2172999)\u001b[0m  ↪ Client0 Epoch 1: train loss 459.2381544113159,\t val loss 492.74847412109375\n",
                  "\u001b[2m\u001b[36m(launch_and_fit pid=2172999)\u001b[0m  ↪ Client0 Epoch 2: train loss 413.96454524993896,\t val loss 480.87171936035156\n",
                  "\u001b[2m\u001b[36m(launch_and_fit pid=2173007)\u001b[0m  ↪ Client1 Epoch 2: train loss 347.2245919704437,\t val loss 255.0896759033203\n",
                  "\u001b[2m\u001b[36m(launch_and_fit pid=2172999)\u001b[0m  ↪ Client0 Epoch 3: train loss 305.19247379899025,\t val loss 401.6163024902344\n",
                  "\u001b[2m\u001b[36m(launch_and_fit pid=2173007)\u001b[0m  ↪ Client1 Epoch 3: train loss 283.3514642715454,\t val loss 220.3334197998047\n",
                  "\u001b[2m\u001b[36m(launch_and_fit pid=2172999)\u001b[0m  ↪ Client0 Epoch 4: train loss 279.4563263654709,\t val loss 383.29212188720703\n",
                  "\u001b[2m\u001b[36m(launch_and_fit pid=2173007)\u001b[0m  ↪ Client1 Epoch 4: train loss 245.8476700782776,\t val loss 188.06958770751953\n",
                  "\u001b[2m\u001b[36m(launch_and_fit pid=2172999)\u001b[0m  ↪ Client0 Epoch 5: train loss 281.7036335468292,\t val loss 388.7433853149414\n",
                  "\u001b[2m\u001b[36m(launch_and_fit pid=2173007)\u001b[0m  ↪ Client1 Epoch 5: train loss 227.1838402748108,\t val loss 160.27408599853516\n",
                  "\u001b[2m\u001b[36m(launch_and_fit pid=2172999)\u001b[0m  ↪ Client0 Epoch 6: train loss 255.21258783340454,\t val loss 348.52921295166016\n",
                  "\u001b[2m\u001b[36m(launch_and_fit pid=2173007)\u001b[0m  ↪ Client1 Epoch 6: train loss 202.16422986984253,\t val loss 155.34737396240234\n",
                  "\u001b[2m\u001b[36m(launch_and_fit pid=2172999)\u001b[0m  ↪ Client0 Epoch 7: train loss 214.88861274719238,\t val loss 334.4865493774414\n",
                  "\u001b[2m\u001b[36m(launch_and_fit pid=2173007)\u001b[0m  ↪ Client1 Epoch 7: train loss 184.79159200191498,\t val loss 128.6970329284668\n",
                  "\u001b[2m\u001b[36m(launch_and_fit pid=2172999)\u001b[0m  ↪ Client0 Epoch 8: train loss 242.37042951583862,\t val loss 334.1679153442383\n",
                  "\u001b[2m\u001b[36m(launch_and_fit pid=2173007)\u001b[0m  ↪ Client1 Epoch 8: train loss 158.71484890580177,\t val loss 155.59046936035156\n",
                  "\u001b[2m\u001b[36m(launch_and_fit pid=2172999)\u001b[0m  ↪ Client0 Epoch 9: train loss 213.8360414505005,\t val loss 331.102783203125\n",
                  "\u001b[2m\u001b[36m(launch_and_fit pid=2173007)\u001b[0m  ↪ Client1 Epoch 9: train loss 158.30909156799316,\t val loss 121.18611526489258\n",
                  "\u001b[2m\u001b[36m(launch_and_fit pid=2172999)\u001b[0m  ↪ Client0 Epoch 10: train loss 173.2316736280918,\t val loss 321.3601989746094\n",
                  "\u001b[2m\u001b[36m(launch_and_fit pid=2172999)\u001b[0m 🔒 Saved the model of client 0 to the disk. 🔒\n",
                  "\u001b[2m\u001b[36m(launch_and_fit pid=2172999)\u001b[0m For manual plotting:\n",
                  "\u001b[2m\u001b[36m(launch_and_fit pid=2172999)\u001b[0m Client0 Train losses = [459.2381544113159, 413.96454524993896, 305.19247379899025, 279.4563263654709, 281.7036335468292, 255.21258783340454, 214.88861274719238, 242.37042951583862, 213.8360414505005, 173.2316736280918]\n",
                  "\u001b[2m\u001b[36m(launch_and_fit pid=2172999)\u001b[0m Client0 Val_losses = [492.74847412109375, 480.87171936035156, 401.6163024902344, 383.29212188720703, 388.7433853149414, 348.52921295166016, 334.4865493774414, 334.1679153442383, 331.102783203125, 321.3601989746094]\n",
                  "\u001b[2m\u001b[36m(launch_and_fit pid=2172999)\u001b[0m ⤺ Get model parameters\n",
                  "\u001b[2m\u001b[36m(launch_and_fit pid=2172999)\u001b[0m 🔒 Saved the model of client 0 to the disk. 🔒\n"
               ]
            },
            {
               "name": "stderr",
               "output_type": "stream",
               "text": [
                  "DEBUG flwr 2023-02-13 01:22:01,598 | server.py:229 | fit_round 2 received 2 results and 0 failures\n"
               ]
            },
            {
               "name": "stdout",
               "output_type": "stream",
               "text": [
                  "\u001b[2m\u001b[36m(launch_and_fit pid=2173007)\u001b[0m  ↪ Client1 Epoch 10: train loss 150.0322244167328,\t val loss 104.29448699951172\n",
                  "\u001b[2m\u001b[36m(launch_and_fit pid=2173007)\u001b[0m 🔒 Saved the model of client 1 to the disk. 🔒\n",
                  "\u001b[2m\u001b[36m(launch_and_fit pid=2173007)\u001b[0m For manual plotting:\n",
                  "\u001b[2m\u001b[36m(launch_and_fit pid=2173007)\u001b[0m Client1 Train losses = [390.3576135635376, 347.2245919704437, 283.3514642715454, 245.8476700782776, 227.1838402748108, 202.16422986984253, 184.79159200191498, 158.71484890580177, 158.30909156799316, 150.0322244167328]\n",
                  "\u001b[2m\u001b[36m(launch_and_fit pid=2173007)\u001b[0m Client1 Val_losses = [292.5580139160156, 255.0896759033203, 220.3334197998047, 188.06958770751953, 160.27408599853516, 155.34737396240234, 128.6970329284668, 155.59046936035156, 121.18611526489258, 104.29448699951172]\n",
                  "\u001b[2m\u001b[36m(launch_and_fit pid=2173007)\u001b[0m ⤺ Get model parameters\n",
                  "\u001b[2m\u001b[36m(launch_and_fit pid=2173007)\u001b[0m 🔒 Saved the model of client 1 to the disk. 🔒\n",
                  "🌻 Created new model - server 🌻\n",
                  "⤻ Set model parameters\n"
               ]
            },
            {
               "name": "stderr",
               "output_type": "stream",
               "text": [
                  "INFO flwr 2023-02-13 01:22:03,370 | server.py:116 | fit progress: (2, 337.81494140625, {}, 716.479224620969)\n",
                  "DEBUG flwr 2023-02-13 01:22:03,372 | server.py:165 | evaluate_round 2: strategy sampled 2 clients (out of 2)\n"
               ]
            },
            {
               "name": "stdout",
               "output_type": "stream",
               "text": [
                  "🔒 Saved the model of client server to the disk. 🔒\n",
                  "Server-side evaluation loss 337.81494140625\n",
                  "⍤ [show gpu process usage before destroying model server] ⍤ GPU:0\n",
                  "no processes are running\n",
                  "꧁ destroyed model - server ꧂\n",
                  "⍤ [show gpu process usage after destroying model server] ⍤ GPU:0\n",
                  "no processes are running\n",
                  "\u001b[2m\u001b[36m(launch_and_evaluate pid=2173007)\u001b[0m 🌻 Created new model - client 0 🌻\n",
                  "\u001b[2m\u001b[36m(launch_and_evaluate pid=2173007)\u001b[0m [Client 0] evaluate, config: {}\n",
                  "\u001b[2m\u001b[36m(launch_and_evaluate pid=2173007)\u001b[0m ⤻ Set model parameters\n",
                  "\u001b[2m\u001b[36m(launch_and_evaluate pid=2172999)\u001b[0m 🌻 Created new model - client 1 🌻\n",
                  "\u001b[2m\u001b[36m(launch_and_evaluate pid=2172999)\u001b[0m [Client 1] evaluate, config: {}\n",
                  "\u001b[2m\u001b[36m(launch_and_evaluate pid=2172999)\u001b[0m ⤻ Set model parameters\n"
               ]
            },
            {
               "name": "stderr",
               "output_type": "stream",
               "text": [
                  "DEBUG flwr 2023-02-13 01:22:45,632 | server.py:179 | evaluate_round 2 received 2 results and 0 failures\n",
                  "DEBUG flwr 2023-02-13 01:22:45,632 | server.py:215 | fit_round 3: strategy sampled 2 clients (out of 2)\n"
               ]
            },
            {
               "name": "stdout",
               "output_type": "stream",
               "text": [
                  "\u001b[2m\u001b[36m(launch_and_evaluate pid=2173007)\u001b[0m 🌠 [Client 0] test RMSE 337.81494140625\n",
                  "\u001b[2m\u001b[36m(launch_and_evaluate pid=2172999)\u001b[0m 🌠 [Client 1] test RMSE 105.0139045715332\n",
                  "\u001b[2m\u001b[36m(launch_and_fit pid=2172999)\u001b[0m 🌻 Created new model - client 1 🌻\n",
                  "\u001b[2m\u001b[36m(launch_and_fit pid=2172999)\u001b[0m ○ started local training of client 1]\n",
                  "\u001b[2m\u001b[36m(launch_and_fit pid=2172999)\u001b[0m ⤻ Set model parameters\n",
                  "\u001b[2m\u001b[36m(launch_and_fit pid=2172999)\u001b[0m ⇉ Started transfer learning of model client 1\n",
                  "\u001b[2m\u001b[36m(launch_and_fit pid=2173007)\u001b[0m 🌻 Created new model - client 0 🌻\n",
                  "\u001b[2m\u001b[36m(launch_and_fit pid=2173007)\u001b[0m ○ started local training of client 0]\n",
                  "\u001b[2m\u001b[36m(launch_and_fit pid=2173007)\u001b[0m ⤻ Set model parameters\n",
                  "\u001b[2m\u001b[36m(launch_and_fit pid=2173007)\u001b[0m ⇉ Started transfer learning of model client 0\n"
               ]
            },
            {
               "name": "stderr",
               "output_type": "stream",
               "text": [
                  "\u001b[2m\u001b[36m(launch_and_fit pid=2173007)\u001b[0m /home/s0001721/anaconda3/envs/zen/lib/python3.9/site-packages/torch/nn/modules/loss.py:530: UserWarning: Using a target size (torch.Size([1, 66])) that is different to the input size (torch.Size([66])). This will likely lead to incorrect results due to broadcasting. Please ensure they have the same size.\n",
                  "\u001b[2m\u001b[36m(launch_and_fit pid=2173007)\u001b[0m   return F.mse_loss(input, target, reduction=self.reduction)\n"
               ]
            },
            {
               "name": "stdout",
               "output_type": "stream",
               "text": [
                  "\u001b[2m\u001b[36m(launch_and_fit pid=2172999)\u001b[0m  ↪ Client1 Epoch 1: train loss 233.40780544281006,\t val loss 104.17168426513672\n",
                  "\u001b[2m\u001b[36m(launch_and_fit pid=2173007)\u001b[0m  ↪ Client0 Epoch 1: train loss 260.98281031847,\t val loss 333.2372283935547\n",
                  "\u001b[2m\u001b[36m(launch_and_fit pid=2173007)\u001b[0m  ↪ Client0 Epoch 2: train loss 207.58581686019897,\t val loss 341.51141357421875\n",
                  "\u001b[2m\u001b[36m(launch_and_fit pid=2172999)\u001b[0m  ↪ Client1 Epoch 2: train loss 176.01732110977173,\t val loss 111.6244010925293\n",
                  "\u001b[2m\u001b[36m(launch_and_fit pid=2173007)\u001b[0m  ↪ Client0 Epoch 3: train loss 201.43907713890076,\t val loss 331.3164825439453\n",
                  "\u001b[2m\u001b[36m(launch_and_fit pid=2172999)\u001b[0m  ↪ Client1 Epoch 3: train loss 174.19616836309433,\t val loss 133.54224395751953\n",
                  "\u001b[2m\u001b[36m(launch_and_fit pid=2173007)\u001b[0m  ↪ Client0 Epoch 4: train loss 176.82288479804993,\t val loss 344.19940185546875\n",
                  "\u001b[2m\u001b[36m(launch_and_fit pid=2172999)\u001b[0m  ↪ Client1 Epoch 4: train loss 200.0009982585907,\t val loss 89.03774642944336\n",
                  "\u001b[2m\u001b[36m(launch_and_fit pid=2173007)\u001b[0m  ↪ Client0 Epoch 5: train loss 165.8528608083725,\t val loss 350.93299865722656\n",
                  "\u001b[2m\u001b[36m(launch_and_fit pid=2172999)\u001b[0m  ↪ Client1 Epoch 5: train loss 175.63171339035034,\t val loss 99.3854751586914\n",
                  "\u001b[2m\u001b[36m(launch_and_fit pid=2173007)\u001b[0m  ↪ Client0 Epoch 6: train loss 214.53673338890076,\t val loss 340.9968719482422\n",
                  "\u001b[2m\u001b[36m(launch_and_fit pid=2172999)\u001b[0m  ↪ Client1 Epoch 6: train loss 134.08139657974243,\t val loss 92.85617446899414\n",
                  "\u001b[2m\u001b[36m(launch_and_fit pid=2173007)\u001b[0m  ↪ Client0 Epoch 7: train loss 152.57782626152039,\t val loss 340.11328125\n",
                  "\u001b[2m\u001b[36m(launch_and_fit pid=2172999)\u001b[0m  ↪ Client1 Epoch 7: train loss 120.91605854034424,\t val loss 85.16909790039062\n",
                  "\u001b[2m\u001b[36m(launch_and_fit pid=2173007)\u001b[0m  ↪ Client0 Epoch 8: train loss 146.84755206108093,\t val loss 350.1651306152344\n",
                  "\u001b[2m\u001b[36m(launch_and_fit pid=2172999)\u001b[0m  ↪ Client1 Epoch 8: train loss 109.85782027244568,\t val loss 89.86140060424805\n",
                  "\u001b[2m\u001b[36m(launch_and_fit pid=2173007)\u001b[0m  ↪ Client0 Epoch 9: train loss 142.67551338672638,\t val loss 349.9345703125\n",
                  "\u001b[2m\u001b[36m(launch_and_fit pid=2172999)\u001b[0m  ↪ Client1 Epoch 9: train loss 104.36679601669312,\t val loss 86.51518630981445\n",
                  "\u001b[2m\u001b[36m(launch_and_fit pid=2173007)\u001b[0m  ↪ Client0 Epoch 10: train loss 138.9631040096283,\t val loss 348.4996795654297\n",
                  "\u001b[2m\u001b[36m(launch_and_fit pid=2173007)\u001b[0m 🔒 Saved the model of client 0 to the disk. 🔒\n",
                  "\u001b[2m\u001b[36m(launch_and_fit pid=2173007)\u001b[0m For manual plotting:\n",
                  "\u001b[2m\u001b[36m(launch_and_fit pid=2173007)\u001b[0m Client0 Train losses = [260.98281031847, 207.58581686019897, 201.43907713890076, 176.82288479804993, 165.8528608083725, 214.53673338890076, 152.57782626152039, 146.84755206108093, 142.67551338672638, 138.9631040096283]\n",
                  "\u001b[2m\u001b[36m(launch_and_fit pid=2173007)\u001b[0m Client0 Val_losses = [333.2372283935547, 341.51141357421875, 331.3164825439453, 344.19940185546875, 350.93299865722656, 340.9968719482422, 340.11328125, 350.1651306152344, 349.9345703125, 348.4996795654297]\n",
                  "\u001b[2m\u001b[36m(launch_and_fit pid=2173007)\u001b[0m ⤺ Get model parameters\n",
                  "\u001b[2m\u001b[36m(launch_and_fit pid=2173007)\u001b[0m 🔒 Saved the model of client 0 to the disk. 🔒\n"
               ]
            },
            {
               "name": "stderr",
               "output_type": "stream",
               "text": [
                  "DEBUG flwr 2023-02-13 01:28:41,487 | server.py:229 | fit_round 3 received 2 results and 0 failures\n"
               ]
            },
            {
               "name": "stdout",
               "output_type": "stream",
               "text": [
                  "\u001b[2m\u001b[36m(launch_and_fit pid=2172999)\u001b[0m  ↪ Client1 Epoch 10: train loss 96.71796202659607,\t val loss 84.2118034362793\n",
                  "\u001b[2m\u001b[36m(launch_and_fit pid=2172999)\u001b[0m 🔒 Saved the model of client 1 to the disk. 🔒\n",
                  "\u001b[2m\u001b[36m(launch_and_fit pid=2172999)\u001b[0m For manual plotting:\n",
                  "\u001b[2m\u001b[36m(launch_and_fit pid=2172999)\u001b[0m Client1 Train losses = [233.40780544281006, 176.01732110977173, 174.19616836309433, 200.0009982585907, 175.63171339035034, 134.08139657974243, 120.91605854034424, 109.85782027244568, 104.36679601669312, 96.71796202659607]\n",
                  "\u001b[2m\u001b[36m(launch_and_fit pid=2172999)\u001b[0m Client1 Val_losses = [104.17168426513672, 111.6244010925293, 133.54224395751953, 89.03774642944336, 99.3854751586914, 92.85617446899414, 85.16909790039062, 89.86140060424805, 86.51518630981445, 84.2118034362793]\n",
                  "\u001b[2m\u001b[36m(launch_and_fit pid=2172999)\u001b[0m ⤺ Get model parameters\n",
                  "\u001b[2m\u001b[36m(launch_and_fit pid=2172999)\u001b[0m 🔒 Saved the model of client 1 to the disk. 🔒\n",
                  "🌻 Created new model - server 🌻\n",
                  "⤻ Set model parameters\n"
               ]
            },
            {
               "name": "stderr",
               "output_type": "stream",
               "text": [
                  "INFO flwr 2023-02-13 01:28:43,055 | server.py:116 | fit progress: (3, 318.47715759277344, {}, 1116.1642911279923)\n",
                  "DEBUG flwr 2023-02-13 01:28:43,057 | server.py:165 | evaluate_round 3: strategy sampled 2 clients (out of 2)\n"
               ]
            },
            {
               "name": "stdout",
               "output_type": "stream",
               "text": [
                  "🔒 Saved the model of client server to the disk. 🔒\n",
                  "Server-side evaluation loss 318.47715759277344\n",
                  "⍤ [show gpu process usage before destroying model server] ⍤ GPU:0\n",
                  "no processes are running\n",
                  "꧁ destroyed model - server ꧂\n",
                  "⍤ [show gpu process usage after destroying model server] ⍤ GPU:0\n",
                  "no processes are running\n",
                  "\u001b[2m\u001b[36m(launch_and_evaluate pid=2172999)\u001b[0m 🌻 Created new model - client 0 🌻\n",
                  "\u001b[2m\u001b[36m(launch_and_evaluate pid=2172999)\u001b[0m [Client 0] evaluate, config: {}\n",
                  "\u001b[2m\u001b[36m(launch_and_evaluate pid=2172999)\u001b[0m ⤻ Set model parameters\n",
                  "\u001b[2m\u001b[36m(launch_and_evaluate pid=2173007)\u001b[0m 🌻 Created new model - client 1 🌻\n",
                  "\u001b[2m\u001b[36m(launch_and_evaluate pid=2173007)\u001b[0m [Client 1] evaluate, config: {}\n",
                  "\u001b[2m\u001b[36m(launch_and_evaluate pid=2173007)\u001b[0m ⤻ Set model parameters\n",
                  "\u001b[2m\u001b[36m(launch_and_evaluate pid=2172999)\u001b[0m 🌠 [Client 0] test RMSE 318.47715759277344\n"
               ]
            },
            {
               "name": "stderr",
               "output_type": "stream",
               "text": [
                  "DEBUG flwr 2023-02-13 01:29:27,640 | server.py:179 | evaluate_round 3 received 2 results and 0 failures\n",
                  "INFO flwr 2023-02-13 01:29:27,641 | server.py:144 | FL finished in 1160.749912323954\n",
                  "INFO flwr 2023-02-13 01:29:27,642 | app.py:202 | app_fit: losses_distributed [(1, 436.96089935302734), (2, 221.4144229888916), (3, 204.21450805664062)]\n",
                  "INFO flwr 2023-02-13 01:29:27,642 | app.py:203 | app_fit: metrics_distributed {}\n",
                  "INFO flwr 2023-02-13 01:29:27,643 | app.py:204 | app_fit: losses_centralized [(0, 2393.1879272460938), (1, 529.5398559570312), (2, 337.81494140625), (3, 318.47715759277344)]\n",
                  "INFO flwr 2023-02-13 01:29:27,643 | app.py:205 | app_fit: metrics_centralized {}\n"
               ]
            },
            {
               "data": {
                  "text/plain": [
                     "History (loss, distributed):\n",
                     "\tround 1: 436.96089935302734\n",
                     "\tround 2: 221.4144229888916\n",
                     "\tround 3: 204.21450805664062\n",
                     "History (loss, centralized):\n",
                     "\tround 0: 2393.1879272460938\n",
                     "\tround 1: 529.5398559570312\n",
                     "\tround 2: 337.81494140625\n",
                     "\tround 3: 318.47715759277344"
                  ]
               },
               "execution_count": 11,
               "metadata": {},
               "output_type": "execute_result"
            },
            {
               "name": "stdout",
               "output_type": "stream",
               "text": [
                  "\u001b[2m\u001b[36m(launch_and_evaluate pid=2173007)\u001b[0m 🌠 [Client 1] test RMSE 89.95185852050781\n"
               ]
            }
         ],
         "source": [
            "# Specify client resources if you need GPU (defaults to 1 CPU and 0 GPU)\n",
            "client_resources = None\n",
            "if DEVICE.type == \"cuda\":\n",
            "  client_resources = {\"num_gpus\": 1}\n",
            "\n",
            "# The `evaluate` function will be by Flower called after every round\n",
            "def evaluate(\n",
            "    server_round: int, parameters: fl.common.NDArrays, config: Dict[str, fl.common.Scalar]\n",
            ") -> Optional[Tuple[float, Dict[str, fl.common.Scalar]]]:\n",
            "    net = net_instance(f\"server\")\n",
            "    valloader = valloaders[0]\n",
            "    set_parameters(net, parameters)  # Update model with the latest parameters\n",
            "    loss, accuracy = test(net, valloader)\n",
            "    save_model(net, \"server\")\n",
            "    if(ML_TASK == TASK.CLASSIFICATION): \n",
            "        print(f\"Server-side evaluation loss {float(loss)} / accuracy {float(accuracy)}\")\n",
            "        destroy_model(net, \"server\")\n",
            "        return float(loss), {\"accuracy\": float(accuracy)}\n",
            "    else: \n",
            "        print(f\"Server-side evaluation loss {float(loss)}\")\n",
            "        destroy_model(net, \"server\")\n",
            "        return float(loss), {}\n",
            "\n",
            "# Pass parameters to the Strategy for server-side parameter initialization\n",
            "server_model = net_instance(f\"server\")\n",
            "server_params = get_parameters(server_model)\n",
            "#destroy_model(server_model, \"server\")\n",
            "strategy = fl.server.strategy.FedAvg(\n",
            "    fraction_fit=1,\n",
            "    fraction_evaluate=1,\n",
            "    min_fit_clients=NUM_CLIENTS,\n",
            "    min_evaluate_clients=NUM_CLIENTS,\n",
            "    min_available_clients=NUM_CLIENTS,\n",
            "    initial_parameters=fl.common.ndarrays_to_parameters(server_params),\n",
            "    evaluate_fn=evaluate\n",
            ")\n",
            "    \n",
            "# start federated learning simulation\n",
            "fl.simulation.start_simulation(\n",
            "    client_fn=client_fn,\n",
            "    num_clients=NUM_CLIENTS,\n",
            "    config=fl.server.ServerConfig(num_rounds=NUM_GLOBAL_ROUNDS),\n",
            "    client_resources=client_resources,\n",
            "    strategy=strategy,\n",
            ")"
         ]
      },
      {
         "cell_type": "code",
         "execution_count": null,
         "metadata": {
            "scrolled": false
         },
         "outputs": [
            {
               "data": {
                  "image/png": "[encoded data removed]",
                  "text/plain": [
                     "<Figure size 800x400 with 1 Axes>"
                  ]
               },
               "metadata": {},
               "output_type": "display_data"
            },
            {
               "data": {
                  "image/png": "[encoded data removed]",
                  "text/plain": [
                     "<Figure size 800x400 with 1 Axes>"
                  ]
               },
               "metadata": {},
               "output_type": "display_data"
            },
            {
               "data": {
                  "image/png": "[encoded data removed]",
                  "text/plain": [
                     "<Figure size 800x400 with 1 Axes>"
                  ]
               },
               "metadata": {},
               "output_type": "display_data"
            },
            {
               "data": {
                  "image/png": "[encoded data removed]",
                  "text/plain": [
                     "<Figure size 800x400 with 1 Axes>"
                  ]
               },
               "metadata": {},
               "output_type": "display_data"
            },
            {
               "data": {
                  "image/png": "[encoded data removed]",
                  "text/plain": [
                     "<Figure size 800x400 with 1 Axes>"
                  ]
               },
               "metadata": {},
               "output_type": "display_data"
            },
            {
               "data": {
                  "image/png": "[encoded data removed]",
                  "text/plain": [
                     "<Figure size 800x400 with 1 Axes>"
                  ]
               },
               "metadata": {},
               "output_type": "display_data"
            }
         ],
         "source": [
            "\"\"\"Copy past the reported lists of losses in the output. \n",
            "We must unfortunatly do so because flower neither support \n",
            "plots in their ouputs nor support for shared global variables.\n",
            "Each flower client run on its own thread with no critical section\n",
            "in a thread safe manner. Improvement could be to start a flask server\n",
            "locally and let all clients report their losses to it\"\"\"\n",
            "\n",
            "c_0_g_1_losses = [1690.6444549560547, 1014.9412422180176, 614.5361881256104, 612.3685903549194, 610.2107501029968, 512.6537094116211, 508.1816186904907, 726.1283893585205, 478.2240810394287, 363.8907632827759]\n",
            "c_0_g_1_val_losses = [1956.8177490234375, 823.3482666015625, 803.9219360351562, 743.2051086425781, 714.6019287109375, 685.8788146972656, 636.6861877441406, 585.3804016113281, 520.2999877929688, 480.45567321777344]\n",
            "c_1_g_1_losses = [1608.9012336730957, 832.783745765686, 635.5203704833984, 558.8975772857666, 542.4425792694092, 494.491247177124, 441.5395040512085, 390.25145626068115, 338.12886476516724, 295.681458234787]\n",
            "c_1_g_1_val_losses = [1401.1082153320312, 616.7889404296875, 579.5692901611328, 546.1353607177734, 517.1003112792969, 504.98468017578125, 454.2438507080078, 417.70489501953125, 372.22084045410156, 331.12831115722656]\n",
            "\n",
            "c_0_g_2_losses = [459.2381544113159, 413.96454524993896, 305.19247379899025, 279.4563263654709, 281.7036335468292, 255.21258783340454, 214.88861274719238, 242.37042951583862, 213.8360414505005, 173.2316736280918]\n",
            "c_0_g_2_val_losses = [492.74847412109375, 480.87171936035156, 401.6163024902344, 383.29212188720703, 388.7433853149414, 348.52921295166016, 334.4865493774414, 334.1679153442383, 331.102783203125, 321.3601989746094]\n",
            "c_1_g_2_losses = [390.3576135635376, 347.2245919704437, 283.3514642715454, 245.8476700782776, 227.1838402748108, 202.16422986984253, 184.79159200191498, 158.71484890580177, 158.30909156799316, 150.0322244167328]\n",
            "c_1_g_2_val_losses = [292.5580139160156, 255.0896759033203, 220.3334197998047, 188.06958770751953, 160.27408599853516, 155.34737396240234, 128.6970329284668, 155.59046936035156, 121.18611526489258, 104.29448699951172]\n",
            "\n",
            "c_0_g_3_losses = [260.98281031847, 207.58581686019897, 201.43907713890076, 176.82288479804993, 165.8528608083725, 214.53673338890076, 152.57782626152039, 146.84755206108093, 142.67551338672638, 138.9631040096283]\n",
            "c_0_g_3_val_losses = [333.2372283935547, 341.51141357421875, 331.3164825439453, 344.19940185546875, 350.93299865722656, 340.9968719482422, 340.11328125, 350.1651306152344, 349.9345703125, 348.4996795654297]\n",
            "c_1_g_3_losses = [233.40780544281006, 176.01732110977173, 174.19616836309433, 200.0009982585907, 175.63171339035034, 134.08139657974243, 120.91605854034424, 109.85782027244568, 104.36679601669312, 96.71796202659607]\n",
            "c_1_g_3_val_losses = [104.17168426513672, 111.6244010925293, 133.54224395751953, 89.03774642944336, 99.3854751586914, 92.85617446899414, 85.16909790039062, 89.86140060424805, 86.51518630981445, 84.2118034362793]\n",
            "\n",
            "c0_g1 = type('',(object,),{\"losses\": c_0_g_1_losses, \"val_losses\":c_0_g_1_val_losses})()\n",
            "c0_g2 = type('',(object,),{\"losses\": c_0_g_2_losses, \"val_losses\":c_0_g_2_val_losses})()\n",
            "c0_g3 = type('',(object,),{\"losses\": c_0_g_3_losses, \"val_losses\":c_0_g_3_val_losses})()\n",
            "c1_g1 = type('',(object,),{\"losses\": c_1_g_1_losses, \"val_losses\":c_1_g_1_val_losses})()\n",
            "c1_g2 = type('',(object,),{\"losses\": c_1_g_2_losses, \"val_losses\":c_1_g_2_val_losses})()\n",
            "c1_g3 = type('',(object,),{\"losses\": c_1_g_3_losses, \"val_losses\":c_1_g_3_val_losses})()\n",
            "\n",
            "\n",
            "plot_client_losses([c0_g1,c0_g2,c0_g3,c1_g1,c1_g2,c1_g3])"
         ]
      },
      {
         "cell_type": "markdown",
         "metadata": {},
         "source": [
            "# Swarm Settings"
         ]
      },
      {
         "cell_type": "markdown",
         "metadata": {},
         "source": [
            "### Hyper parameters"
         ]
      },
      {
         "cell_type": "code",
         "execution_count": 10,
         "metadata": {},
         "outputs": [],
         "source": [
            "# Hyper parameters & Dataset class\n",
            "NUM_CLIENTS = 5\n",
            "NUM_OUTPUT = 66\n",
            "IMG_SIZE = 160\n",
            "RUN_PRETRAINED = True\n",
            "ML_TASK = TASK.REGRESSION\n",
            "BATCH_SIZE=8\n",
            "VAL_PART=10\n",
            "SUBSET_RATIO = 0.003\n",
            "USE_GPU=False\n",
            "NUM_GLOBAL_ROUNDS = 2\n",
            "NUM_LOCAL_EPOCHS = 6\n",
            "PRINT_DEBUG_DATA=True\n",
            "\n",
            "DEVICE = torch.device('cuda' if USE_GPU else 'cpu')"
         ]
      },
      {
         "cell_type": "code",
         "execution_count": 11,
         "metadata": {},
         "outputs": [
            {
               "name": "stdout",
               "output_type": "stream",
               "text": [
                  "training_frames length: 269\n",
                  "validation_frames length: 30\n"
               ]
            }
         ],
         "source": [
            "training_frames = training_frames_all[:int(len(training_frames_all) * SUBSET_RATIO)]\n",
            "validation_frames = validation_frames_all[:int(len(validation_frames_all) * SUBSET_RATIO)]\n",
            "\n",
            "print('training_frames length:', len(training_frames))\n",
            "print('validation_frames length:', len(validation_frames))"
         ]
      },
      {
         "cell_type": "code",
         "execution_count": 12,
         "metadata": {},
         "outputs": [],
         "source": [
            "trainloaders, valloaders, testloader = load_datasets(NUM_CLIENTS)"
         ]
      },
      {
         "cell_type": "markdown",
         "metadata": {},
         "source": [
            "### Client"
         ]
      },
      {
         "cell_type": "code",
         "execution_count": 13,
         "metadata": {
            "id": "ye6Jt5p3LWtF"
         },
         "outputs": [],
         "source": [
            "class Client():\n",
            "    def __init__(self, cid, net, trainloader, valloader):\n",
            "        self.cid = cid\n",
            "        self.net = net\n",
            "        self.trainloader = trainloader\n",
            "        self.valloader = valloader\n",
            "        self.losses=[]\n",
            "        self.val_losses=[]\n",
            "\n",
            "    def get_parameters(self):\n",
            "        print(f\"⤺ Get model parameters of client {self.cid}]\")\n",
            "        return self.net.state_dict()\n",
            "\n",
            "    def fit(self, round_info):\n",
            "        print(f\"○ started local training of client {self.cid}] - {round_info}\")\n",
            "        losses, accs, val_losses, val_accs=train(\n",
            "            self.net, \n",
            "            self.trainloader, \n",
            "            self.valloader, \n",
            "            epochs=NUM_LOCAL_EPOCHS,\n",
            "            contin_val=True, \n",
            "            plot=True,\n",
            "            verbose=0, \n",
            "            client_cid=self.cid,\n",
            "            model_name=f\"client {self.cid} - {round_info}\"\n",
            "        )\n",
            "            \n",
            "        self.losses.append(losses)\n",
            "        self.val_losses.append(val_losses)\n",
            "    \n",
            "    def aggregate(self, model_params, strategy=None):\n",
            "        if(not strategy):\n",
            "            self.FedAvg(model_params)\n",
            "\n",
            "    def FedAvg(self, model_params):\n",
            "        averaged_weights = OrderedDict()\n",
            "        self_params = self.net.state_dict()\n",
            "        \n",
            "        for key in self_params.keys():\n",
            "            averaged_weights[key] = (self_params[key] + model_params[key]) /2\n",
            "            \n",
            "        self.net.load_state_dict(averaged_weights)\n",
            "        \n",
            "    def validate(self):\n",
            "        loss, accuracy = test(self.net, self.valloader)\n",
            "        if(ML_TASK == TASK.CLASSIFICATION): \n",
            "            print(f\"🌠 [Client {self.cid}] test loss {loss}, accuracy {accuracy}\")\n",
            "            return float(loss), len(self.valloader), {\"accuracy\": float(accuracy)}\n",
            "        else: \n",
            "            print(f\"🌠 [Client {self.cid}] test RMSE {loss}\")\n",
            "            return float(loss), len(self.valloader), {\"loss\": float(loss)}"
         ]
      },
      {
         "cell_type": "markdown",
         "metadata": {},
         "source": [
            "### Swarm simulator"
         ]
      },
      {
         "cell_type": "code",
         "execution_count": 14,
         "metadata": {},
         "outputs": [],
         "source": [
            "def create_client(cid):\n",
            "    net = net_instance(f\"client {cid}\")\n",
            "    trainloader = trainloaders[int(cid)]\n",
            "    valloader = valloaders[int(cid)]\n",
            "    client=Client(cid, net, trainloader, valloader)\n",
            "    return client\n",
            "\n",
            "def aggregate_share(client_1, client_2):\n",
            "    \"\"\"send model parameters between 2 clients, aggregate \n",
            "    them and set them into the network of each of them\"\"\"\n",
            "    print(f\"-> Validating before aggregating:\")\n",
            "    client_1.validate()\n",
            "    client_2.validate()\n",
            "    client_1_params = client_1.get_parameters()\n",
            "    client_2_params = client_2.get_parameters()\n",
            "    client_1.aggregate(client_2_params)\n",
            "    client_2.aggregate(client_1_params)\n",
            "    print(f\"⦿ Aggredated parameter of {client_1.cid} and {client_2.cid} and shared the aggregated model to both\")\n",
            "    print(f\"<- Validating After aggregating:\")\n",
            "    client_1.validate()\n",
            "    client_2.validate()\n",
            "    \n",
            "def perform_global_round(clients_network, round_number, client_cids=None):\n",
            "    print(f\"⦿ Started global round {round_number} between the clients {client_cids if client_cids else [c.cid for c in clients_network]}\")\n",
            "    if(client_cids):\n",
            "        for c_idx in client_cids:\n",
            "            clients_network[c_idx].fit(round_info=f\"global round {round_number}\")\n",
            "    else:\n",
            "        for c in clients_network:\n",
            "            c.fit(round_info=f\"global round {round_number}\")\n",
            "    print(\"⦿ End global round\")\n",
            "            \n",
            "def create_fully_connected_graph(clients_network):\n",
            "    nodes=[]; edges=[];\n",
            "    for i in range(len(clients_network)):\n",
            "        nodes.append(i)\n",
            "        for j in range(i+1,len(clients_network)):\n",
            "            edges.append((i,j))\n",
            "    return nodes, edges\n",
            "\n",
            "def aggregate_clients(clients_network,edges):\n",
            "    print(\"⦿ Started Aggregation\")\n",
            "    for c_1_idx, c_2_idx in edges:\n",
            "        aggregate_share(clients_network[c_1_idx], clients_network[c_2_idx])\n",
            "    \n",
            "def simulate_fully_connected_graph(clients_network):\n",
            "    nodes, edges = create_fully_connected_graph(clients_network)\n",
            "    \n",
            "    for i in range(NUM_GLOBAL_ROUNDS):\n",
            "        # perform one global rounds on all\n",
            "        perform_global_round(clients_network, round_number=i)\n",
            "\n",
            "        # share and aggregate weights between all clients\n",
            "        aggregate_clients(clients_network,edges)   \n",
            "        \n",
            "    return nodes, edges\n",
            "\n",
            "def simulate_random_dynamic_graph(clients_network):\n",
            "    nodes = []\n",
            "    edges = []\n",
            "    for i in range(NUM_GLOBAL_ROUNDS):\n",
            "        \n",
            "        random_edges = [get_random_edge(clients_network) for _ in range(3)]\n",
            "        nodes_of_edges = get_nodes_from_edges(random_edges)\n",
            "        perform_global_round(clients_network, client_cids=nodes_of_edges, round_number=i)\n",
            "        \n",
            "        edges.extend(random_edges)\n",
            "        nodes.extend(nodes_of_edges)\n",
            "        \n",
            "        # share and aggregate weights between  clients\n",
            "        aggregate_clients(clients_network,random_edges)   \n",
            "        \n",
            "    return nodes, edges\n",
            "\n",
            "def get_network_nodes(clients_network):\n",
            "    return [c.cid for c in clients_network]\n",
            "\n",
            "def get_nodes_from_edges(edges):\n",
            "    return set([item for t in edges for item in t])\n",
            "\n",
            "def get_random_edge(clients_network):\n",
            "    c_1_cid = random.choice(clients_network).cid\n",
            "    c_2_cid = random.choice(clients_network).cid\n",
            "    while(c_1_cid == c_2_cid):\n",
            "        c_2_cid = random.choice(clients_network).cid\n",
            "    return (c_1_cid,c_2_cid)\n",
            "\n",
            "def plot_typology_graph(nodes, edges):\n",
            "    G = nx.DiGraph()\n",
            "    G.add_nodes_from(nodes)\n",
            "    G.add_edges_from(edges)\n",
            "    nx.draw_networkx(G, bbox = dict(facecolor = \"skyblue\",\n",
            "                 boxstyle = \"round\", ec = \"silver\", pad = 1),\n",
            "                 edge_color = \"gray\")\n",
            "    plt.title(\"Swarm learning simulation graph\")\n",
            "    plt.show()"
         ]
      },
      {
         "cell_type": "markdown",
         "metadata": {
            "id": "YqnRgtiMvI-f"
         },
         "source": [
            "### Simulation of swarm learning"
         ]
      },
      {
         "cell_type": "code",
         "execution_count": 15,
         "metadata": {
            "colab": {
               "base_uri": "https://localhost:8080/"
            },
            "id": "9enZUOD1vI-f",
            "outputId": "2bf813cd-f1b7-4601-b986-114471cea938"
         },
         "outputs": [
            {
               "name": "stdout",
               "output_type": "stream",
               "text": [
                  "🌻 Created new model - client 0 🌻\n",
                  "🌻 Created new model - client 1 🌻\n",
                  "🌻 Created new model - client 2 🌻\n",
                  "🌻 Created new model - client 3 🌻\n",
                  "🌻 Created new model - client 4 🌻\n",
                  "⦿ Started global round 0 between the clients [0, 1, 2, 3, 4]\n",
                  "○ started local training of client 0] - global round 0\n",
                  "⇉ Started transfer learning of model client 0 - global round 0\n",
                  " ↪ Client0 Epoch 1: train loss 2191.8597412109375,\t val loss 2572.12548828125\n",
                  " ↪ Client0 Epoch 2: train loss 2138.866485595703,\t val loss 2477.602294921875\n",
                  " ↪ Client0 Epoch 3: train loss 2010.1343587239583,\t val loss 2261.297607421875\n",
                  " ↪ Client0 Epoch 4: train loss 1739.9141133626301,\t val loss 1867.2047119140625\n"
               ]
            },
            {
               "ename": "KeyboardInterrupt",
               "evalue": "",
               "output_type": "error",
               "traceback": [
                  "\u001b[0;31m---------------------------------------------------------------------------\u001b[0m",
                  "\u001b[0;31mKeyboardInterrupt\u001b[0m                         Traceback (most recent call last)",
                  "Cell \u001b[0;32mIn[15], line 5\u001b[0m\n\u001b[1;32m      2\u001b[0m clients_network \u001b[38;5;241m=\u001b[39m [create_client(i) \u001b[38;5;28;01mfor\u001b[39;00m i \u001b[38;5;129;01min\u001b[39;00m \u001b[38;5;28mrange\u001b[39m(NUM_CLIENTS)]\n\u001b[1;32m      4\u001b[0m \u001b[38;5;66;03m# swarm simulation - fully connected graph\u001b[39;00m\n\u001b[0;32m----> 5\u001b[0m nodes, edges \u001b[38;5;241m=\u001b[39m \u001b[43msimulate_fully_connected_graph\u001b[49m\u001b[43m(\u001b[49m\u001b[43mclients_network\u001b[49m\u001b[43m)\u001b[49m\n",
                  "Cell \u001b[0;32mIn[14], line 51\u001b[0m, in \u001b[0;36msimulate_fully_connected_graph\u001b[0;34m(clients_network)\u001b[0m\n\u001b[1;32m     47\u001b[0m nodes, edges \u001b[38;5;241m=\u001b[39m create_fully_connected_graph(clients_network)\n\u001b[1;32m     49\u001b[0m \u001b[38;5;28;01mfor\u001b[39;00m i \u001b[38;5;129;01min\u001b[39;00m \u001b[38;5;28mrange\u001b[39m(NUM_GLOBAL_ROUNDS):\n\u001b[1;32m     50\u001b[0m     \u001b[38;5;66;03m# perform one global rounds on all\u001b[39;00m\n\u001b[0;32m---> 51\u001b[0m     \u001b[43mperform_global_round\u001b[49m\u001b[43m(\u001b[49m\u001b[43mclients_network\u001b[49m\u001b[43m,\u001b[49m\u001b[43m \u001b[49m\u001b[43mround_number\u001b[49m\u001b[38;5;241;43m=\u001b[39;49m\u001b[43mi\u001b[49m\u001b[43m)\u001b[49m\n\u001b[1;32m     53\u001b[0m     \u001b[38;5;66;03m# share and aggregate weights between all clients\u001b[39;00m\n\u001b[1;32m     54\u001b[0m     aggregate_clients(clients_network,edges)   \n",
                  "Cell \u001b[0;32mIn[14], line 30\u001b[0m, in \u001b[0;36mperform_global_round\u001b[0;34m(clients_network, round_number, client_cids)\u001b[0m\n\u001b[1;32m     28\u001b[0m \u001b[38;5;28;01melse\u001b[39;00m:\n\u001b[1;32m     29\u001b[0m     \u001b[38;5;28;01mfor\u001b[39;00m c \u001b[38;5;129;01min\u001b[39;00m clients_network:\n\u001b[0;32m---> 30\u001b[0m         \u001b[43mc\u001b[49m\u001b[38;5;241;43m.\u001b[39;49m\u001b[43mfit\u001b[49m\u001b[43m(\u001b[49m\u001b[43mround_info\u001b[49m\u001b[38;5;241;43m=\u001b[39;49m\u001b[38;5;124;43mf\u001b[39;49m\u001b[38;5;124;43m\"\u001b[39;49m\u001b[38;5;124;43mglobal round \u001b[39;49m\u001b[38;5;132;43;01m{\u001b[39;49;00m\u001b[43mround_number\u001b[49m\u001b[38;5;132;43;01m}\u001b[39;49;00m\u001b[38;5;124;43m\"\u001b[39;49m\u001b[43m)\u001b[49m\n\u001b[1;32m     31\u001b[0m \u001b[38;5;28mprint\u001b[39m(\u001b[38;5;124m\"\u001b[39m\u001b[38;5;124m⦿ End global round\u001b[39m\u001b[38;5;124m\"\u001b[39m)\n",
                  "Cell \u001b[0;32mIn[13], line 16\u001b[0m, in \u001b[0;36mClient.fit\u001b[0;34m(self, round_info)\u001b[0m\n\u001b[1;32m     14\u001b[0m \u001b[38;5;28;01mdef\u001b[39;00m \u001b[38;5;21mfit\u001b[39m(\u001b[38;5;28mself\u001b[39m, round_info):\n\u001b[1;32m     15\u001b[0m     \u001b[38;5;28mprint\u001b[39m(\u001b[38;5;124mf\u001b[39m\u001b[38;5;124m\"\u001b[39m\u001b[38;5;124m○ started local training of client \u001b[39m\u001b[38;5;132;01m{\u001b[39;00m\u001b[38;5;28mself\u001b[39m\u001b[38;5;241m.\u001b[39mcid\u001b[38;5;132;01m}\u001b[39;00m\u001b[38;5;124m] - \u001b[39m\u001b[38;5;132;01m{\u001b[39;00mround_info\u001b[38;5;132;01m}\u001b[39;00m\u001b[38;5;124m\"\u001b[39m)\n\u001b[0;32m---> 16\u001b[0m     losses, accs, val_losses, val_accs\u001b[38;5;241m=\u001b[39m\u001b[43mtrain\u001b[49m\u001b[43m(\u001b[49m\n\u001b[1;32m     17\u001b[0m \u001b[43m        \u001b[49m\u001b[38;5;28;43mself\u001b[39;49m\u001b[38;5;241;43m.\u001b[39;49m\u001b[43mnet\u001b[49m\u001b[43m,\u001b[49m\u001b[43m \u001b[49m\n\u001b[1;32m     18\u001b[0m \u001b[43m        \u001b[49m\u001b[38;5;28;43mself\u001b[39;49m\u001b[38;5;241;43m.\u001b[39;49m\u001b[43mtrainloader\u001b[49m\u001b[43m,\u001b[49m\u001b[43m \u001b[49m\n\u001b[1;32m     19\u001b[0m \u001b[43m        \u001b[49m\u001b[38;5;28;43mself\u001b[39;49m\u001b[38;5;241;43m.\u001b[39;49m\u001b[43mvalloader\u001b[49m\u001b[43m,\u001b[49m\u001b[43m \u001b[49m\n\u001b[1;32m     20\u001b[0m \u001b[43m        \u001b[49m\u001b[43mepochs\u001b[49m\u001b[38;5;241;43m=\u001b[39;49m\u001b[43mNUM_LOCAL_EPOCHS\u001b[49m\u001b[43m,\u001b[49m\n\u001b[1;32m     21\u001b[0m \u001b[43m        \u001b[49m\u001b[43mcontin_val\u001b[49m\u001b[38;5;241;43m=\u001b[39;49m\u001b[38;5;28;43;01mTrue\u001b[39;49;00m\u001b[43m,\u001b[49m\u001b[43m \u001b[49m\n\u001b[1;32m     22\u001b[0m \u001b[43m        \u001b[49m\u001b[43mplot\u001b[49m\u001b[38;5;241;43m=\u001b[39;49m\u001b[38;5;28;43;01mTrue\u001b[39;49;00m\u001b[43m,\u001b[49m\n\u001b[1;32m     23\u001b[0m \u001b[43m        \u001b[49m\u001b[43mverbose\u001b[49m\u001b[38;5;241;43m=\u001b[39;49m\u001b[38;5;241;43m0\u001b[39;49m\u001b[43m,\u001b[49m\u001b[43m \u001b[49m\n\u001b[1;32m     24\u001b[0m \u001b[43m        \u001b[49m\u001b[43mclient_cid\u001b[49m\u001b[38;5;241;43m=\u001b[39;49m\u001b[38;5;28;43mself\u001b[39;49m\u001b[38;5;241;43m.\u001b[39;49m\u001b[43mcid\u001b[49m\u001b[43m,\u001b[49m\n\u001b[1;32m     25\u001b[0m \u001b[43m        \u001b[49m\u001b[43mmodel_name\u001b[49m\u001b[38;5;241;43m=\u001b[39;49m\u001b[38;5;124;43mf\u001b[39;49m\u001b[38;5;124;43m\"\u001b[39;49m\u001b[38;5;124;43mclient \u001b[39;49m\u001b[38;5;132;43;01m{\u001b[39;49;00m\u001b[38;5;28;43mself\u001b[39;49m\u001b[38;5;241;43m.\u001b[39;49m\u001b[43mcid\u001b[49m\u001b[38;5;132;43;01m}\u001b[39;49;00m\u001b[38;5;124;43m - \u001b[39;49m\u001b[38;5;132;43;01m{\u001b[39;49;00m\u001b[43mround_info\u001b[49m\u001b[38;5;132;43;01m}\u001b[39;49;00m\u001b[38;5;124;43m\"\u001b[39;49m\n\u001b[1;32m     26\u001b[0m \u001b[43m    \u001b[49m\u001b[43m)\u001b[49m\n\u001b[1;32m     28\u001b[0m     \u001b[38;5;28mself\u001b[39m\u001b[38;5;241m.\u001b[39mlosses\u001b[38;5;241m.\u001b[39mappend(losses)\n\u001b[1;32m     29\u001b[0m     \u001b[38;5;28mself\u001b[39m\u001b[38;5;241m.\u001b[39mval_losses\u001b[38;5;241m.\u001b[39mappend(val_losses)\n",
                  "Cell \u001b[0;32mIn[9], line 37\u001b[0m, in \u001b[0;36mtrain\u001b[0;34m(net, trainloader, valloader, epochs, contin_val, plot, client_cid, verbose, model_name)\u001b[0m\n\u001b[1;32m     34\u001b[0m         \u001b[38;5;28mprint\u001b[39m(\u001b[38;5;124mf\u001b[39m\u001b[38;5;124m\"\u001b[39m\u001b[38;5;130;01m\\t\u001b[39;00m\u001b[38;5;124mBatch \u001b[39m\u001b[38;5;132;01m{\u001b[39;00mbatch_index\u001b[38;5;132;01m}\u001b[39;00m\u001b[38;5;124m/\u001b[39m\u001b[38;5;132;01m{\u001b[39;00mnum_batches\u001b[38;5;132;01m}\u001b[39;00m\u001b[38;5;124m: Train loss: \u001b[39m\u001b[38;5;132;01m{\u001b[39;00m\u001b[38;5;28msum\u001b[39m(epoch_loss[\u001b[38;5;241m-\u001b[39mprint_every:])\u001b[38;5;241m/\u001b[39mprint_every\u001b[38;5;132;01m:\u001b[39;00m\u001b[38;5;124m.3f\u001b[39m\u001b[38;5;132;01m}\u001b[39;00m\u001b[38;5;124m, \u001b[39m\u001b[38;5;124m\"\u001b[39m)\n\u001b[1;32m     36\u001b[0m epoch_loss \u001b[38;5;241m=\u001b[39m np\u001b[38;5;241m.\u001b[39mmean(epoch_loss)\n\u001b[0;32m---> 37\u001b[0m epoch_val_loss, epoch_val_accuracy \u001b[38;5;241m=\u001b[39m \u001b[43mtest\u001b[49m\u001b[43m(\u001b[49m\u001b[43mnet\u001b[49m\u001b[43m,\u001b[49m\u001b[43m \u001b[49m\u001b[43mvalloader\u001b[49m\u001b[43m)\u001b[49m\n\u001b[1;32m     38\u001b[0m losses\u001b[38;5;241m.\u001b[39mappend(epoch_loss); \n\u001b[1;32m     39\u001b[0m val_losses\u001b[38;5;241m.\u001b[39mappend(epoch_val_loss);\n",
                  "Cell \u001b[0;32mIn[9], line 74\u001b[0m, in \u001b[0;36mtest\u001b[0;34m(net, testloader)\u001b[0m\n\u001b[1;32m     72\u001b[0m loss \u001b[38;5;241m=\u001b[39m []\n\u001b[1;32m     73\u001b[0m \u001b[38;5;28;01mwith\u001b[39;00m torch\u001b[38;5;241m.\u001b[39mno_grad():\n\u001b[0;32m---> 74\u001b[0m     \u001b[38;5;28;01mfor\u001b[39;00m images, labels \u001b[38;5;129;01min\u001b[39;00m testloader:\n\u001b[1;32m     75\u001b[0m         images, labels \u001b[38;5;241m=\u001b[39m images\u001b[38;5;241m.\u001b[39mto(DEVICE), labels\u001b[38;5;241m.\u001b[39mto(DEVICE)\n\u001b[1;32m     76\u001b[0m         outputs \u001b[38;5;241m=\u001b[39m net(images)\n",
                  "File \u001b[0;32m~/anaconda3/envs/zen/lib/python3.9/site-packages/torch/utils/data/dataloader.py:681\u001b[0m, in \u001b[0;36m_BaseDataLoaderIter.__next__\u001b[0;34m(self)\u001b[0m\n\u001b[1;32m    678\u001b[0m \u001b[38;5;28;01mif\u001b[39;00m \u001b[38;5;28mself\u001b[39m\u001b[38;5;241m.\u001b[39m_sampler_iter \u001b[38;5;129;01mis\u001b[39;00m \u001b[38;5;28;01mNone\u001b[39;00m:\n\u001b[1;32m    679\u001b[0m     \u001b[38;5;66;03m# TODO(https://github.com/pytorch/pytorch/issues/76750)\u001b[39;00m\n\u001b[1;32m    680\u001b[0m     \u001b[38;5;28mself\u001b[39m\u001b[38;5;241m.\u001b[39m_reset()  \u001b[38;5;66;03m# type: ignore[call-arg]\u001b[39;00m\n\u001b[0;32m--> 681\u001b[0m data \u001b[38;5;241m=\u001b[39m \u001b[38;5;28;43mself\u001b[39;49m\u001b[38;5;241;43m.\u001b[39;49m\u001b[43m_next_data\u001b[49m\u001b[43m(\u001b[49m\u001b[43m)\u001b[49m\n\u001b[1;32m    682\u001b[0m \u001b[38;5;28mself\u001b[39m\u001b[38;5;241m.\u001b[39m_num_yielded \u001b[38;5;241m+\u001b[39m\u001b[38;5;241m=\u001b[39m \u001b[38;5;241m1\u001b[39m\n\u001b[1;32m    683\u001b[0m \u001b[38;5;28;01mif\u001b[39;00m \u001b[38;5;28mself\u001b[39m\u001b[38;5;241m.\u001b[39m_dataset_kind \u001b[38;5;241m==\u001b[39m _DatasetKind\u001b[38;5;241m.\u001b[39mIterable \u001b[38;5;129;01mand\u001b[39;00m \\\n\u001b[1;32m    684\u001b[0m         \u001b[38;5;28mself\u001b[39m\u001b[38;5;241m.\u001b[39m_IterableDataset_len_called \u001b[38;5;129;01mis\u001b[39;00m \u001b[38;5;129;01mnot\u001b[39;00m \u001b[38;5;28;01mNone\u001b[39;00m \u001b[38;5;129;01mand\u001b[39;00m \\\n\u001b[1;32m    685\u001b[0m         \u001b[38;5;28mself\u001b[39m\u001b[38;5;241m.\u001b[39m_num_yielded \u001b[38;5;241m>\u001b[39m \u001b[38;5;28mself\u001b[39m\u001b[38;5;241m.\u001b[39m_IterableDataset_len_called:\n",
                  "File \u001b[0;32m~/anaconda3/envs/zen/lib/python3.9/site-packages/torch/utils/data/dataloader.py:721\u001b[0m, in \u001b[0;36m_SingleProcessDataLoaderIter._next_data\u001b[0;34m(self)\u001b[0m\n\u001b[1;32m    719\u001b[0m \u001b[38;5;28;01mdef\u001b[39;00m \u001b[38;5;21m_next_data\u001b[39m(\u001b[38;5;28mself\u001b[39m):\n\u001b[1;32m    720\u001b[0m     index \u001b[38;5;241m=\u001b[39m \u001b[38;5;28mself\u001b[39m\u001b[38;5;241m.\u001b[39m_next_index()  \u001b[38;5;66;03m# may raise StopIteration\u001b[39;00m\n\u001b[0;32m--> 721\u001b[0m     data \u001b[38;5;241m=\u001b[39m \u001b[38;5;28;43mself\u001b[39;49m\u001b[38;5;241;43m.\u001b[39;49m\u001b[43m_dataset_fetcher\u001b[49m\u001b[38;5;241;43m.\u001b[39;49m\u001b[43mfetch\u001b[49m\u001b[43m(\u001b[49m\u001b[43mindex\u001b[49m\u001b[43m)\u001b[49m  \u001b[38;5;66;03m# may raise StopIteration\u001b[39;00m\n\u001b[1;32m    722\u001b[0m     \u001b[38;5;28;01mif\u001b[39;00m \u001b[38;5;28mself\u001b[39m\u001b[38;5;241m.\u001b[39m_pin_memory:\n\u001b[1;32m    723\u001b[0m         data \u001b[38;5;241m=\u001b[39m _utils\u001b[38;5;241m.\u001b[39mpin_memory\u001b[38;5;241m.\u001b[39mpin_memory(data, \u001b[38;5;28mself\u001b[39m\u001b[38;5;241m.\u001b[39m_pin_memory_device)\n",
                  "File \u001b[0;32m~/anaconda3/envs/zen/lib/python3.9/site-packages/torch/utils/data/_utils/fetch.py:49\u001b[0m, in \u001b[0;36m_MapDatasetFetcher.fetch\u001b[0;34m(self, possibly_batched_index)\u001b[0m\n\u001b[1;32m     47\u001b[0m \u001b[38;5;28;01mdef\u001b[39;00m \u001b[38;5;21mfetch\u001b[39m(\u001b[38;5;28mself\u001b[39m, possibly_batched_index):\n\u001b[1;32m     48\u001b[0m     \u001b[38;5;28;01mif\u001b[39;00m \u001b[38;5;28mself\u001b[39m\u001b[38;5;241m.\u001b[39mauto_collation:\n\u001b[0;32m---> 49\u001b[0m         data \u001b[38;5;241m=\u001b[39m [\u001b[38;5;28mself\u001b[39m\u001b[38;5;241m.\u001b[39mdataset[idx] \u001b[38;5;28;01mfor\u001b[39;00m idx \u001b[38;5;129;01min\u001b[39;00m possibly_batched_index]\n\u001b[1;32m     50\u001b[0m     \u001b[38;5;28;01melse\u001b[39;00m:\n\u001b[1;32m     51\u001b[0m         data \u001b[38;5;241m=\u001b[39m \u001b[38;5;28mself\u001b[39m\u001b[38;5;241m.\u001b[39mdataset[possibly_batched_index]\n",
                  "File \u001b[0;32m~/anaconda3/envs/zen/lib/python3.9/site-packages/torch/utils/data/_utils/fetch.py:49\u001b[0m, in \u001b[0;36m<listcomp>\u001b[0;34m(.0)\u001b[0m\n\u001b[1;32m     47\u001b[0m \u001b[38;5;28;01mdef\u001b[39;00m \u001b[38;5;21mfetch\u001b[39m(\u001b[38;5;28mself\u001b[39m, possibly_batched_index):\n\u001b[1;32m     48\u001b[0m     \u001b[38;5;28;01mif\u001b[39;00m \u001b[38;5;28mself\u001b[39m\u001b[38;5;241m.\u001b[39mauto_collation:\n\u001b[0;32m---> 49\u001b[0m         data \u001b[38;5;241m=\u001b[39m [\u001b[38;5;28;43mself\u001b[39;49m\u001b[38;5;241;43m.\u001b[39;49m\u001b[43mdataset\u001b[49m\u001b[43m[\u001b[49m\u001b[43midx\u001b[49m\u001b[43m]\u001b[49m \u001b[38;5;28;01mfor\u001b[39;00m idx \u001b[38;5;129;01min\u001b[39;00m possibly_batched_index]\n\u001b[1;32m     50\u001b[0m     \u001b[38;5;28;01melse\u001b[39;00m:\n\u001b[1;32m     51\u001b[0m         data \u001b[38;5;241m=\u001b[39m \u001b[38;5;28mself\u001b[39m\u001b[38;5;241m.\u001b[39mdataset[possibly_batched_index]\n",
                  "File \u001b[0;32m~/anaconda3/envs/zen/lib/python3.9/site-packages/torch/utils/data/dataset.py:290\u001b[0m, in \u001b[0;36mSubset.__getitem__\u001b[0;34m(self, idx)\u001b[0m\n\u001b[1;32m    288\u001b[0m \u001b[38;5;28;01mif\u001b[39;00m \u001b[38;5;28misinstance\u001b[39m(idx, \u001b[38;5;28mlist\u001b[39m):\n\u001b[1;32m    289\u001b[0m     \u001b[38;5;28;01mreturn\u001b[39;00m \u001b[38;5;28mself\u001b[39m\u001b[38;5;241m.\u001b[39mdataset[[\u001b[38;5;28mself\u001b[39m\u001b[38;5;241m.\u001b[39mindices[i] \u001b[38;5;28;01mfor\u001b[39;00m i \u001b[38;5;129;01min\u001b[39;00m idx]]\n\u001b[0;32m--> 290\u001b[0m \u001b[38;5;28;01mreturn\u001b[39;00m \u001b[38;5;28;43mself\u001b[39;49m\u001b[38;5;241;43m.\u001b[39;49m\u001b[43mdataset\u001b[49m\u001b[43m[\u001b[49m\u001b[38;5;28;43mself\u001b[39;49m\u001b[38;5;241;43m.\u001b[39;49m\u001b[43mindices\u001b[49m\u001b[43m[\u001b[49m\u001b[43midx\u001b[49m\u001b[43m]\u001b[49m\u001b[43m]\u001b[49m\n",
                  "File \u001b[0;32m~/anaconda3/envs/zen/lib/python3.9/site-packages/torch/utils/data/dataset.py:290\u001b[0m, in \u001b[0;36mSubset.__getitem__\u001b[0;34m(self, idx)\u001b[0m\n\u001b[1;32m    288\u001b[0m \u001b[38;5;28;01mif\u001b[39;00m \u001b[38;5;28misinstance\u001b[39m(idx, \u001b[38;5;28mlist\u001b[39m):\n\u001b[1;32m    289\u001b[0m     \u001b[38;5;28;01mreturn\u001b[39;00m \u001b[38;5;28mself\u001b[39m\u001b[38;5;241m.\u001b[39mdataset[[\u001b[38;5;28mself\u001b[39m\u001b[38;5;241m.\u001b[39mindices[i] \u001b[38;5;28;01mfor\u001b[39;00m i \u001b[38;5;129;01min\u001b[39;00m idx]]\n\u001b[0;32m--> 290\u001b[0m \u001b[38;5;28;01mreturn\u001b[39;00m \u001b[38;5;28;43mself\u001b[39;49m\u001b[38;5;241;43m.\u001b[39;49m\u001b[43mdataset\u001b[49m\u001b[43m[\u001b[49m\u001b[38;5;28;43mself\u001b[39;49m\u001b[38;5;241;43m.\u001b[39;49m\u001b[43mindices\u001b[49m\u001b[43m[\u001b[49m\u001b[43midx\u001b[49m\u001b[43m]\u001b[49m\u001b[43m]\u001b[49m\n",
                  "Cell \u001b[0;32mIn[6], line 15\u001b[0m, in \u001b[0;36mZodDataset.__getitem__\u001b[0;34m(self, idx)\u001b[0m\n\u001b[1;32m     12\u001b[0m frame_idx \u001b[38;5;241m=\u001b[39m \u001b[38;5;28mself\u001b[39m\u001b[38;5;241m.\u001b[39mframes_id_set[idx]\n\u001b[1;32m     13\u001b[0m frame \u001b[38;5;241m=\u001b[39m \u001b[38;5;28mself\u001b[39m\u001b[38;5;241m.\u001b[39mzod_frames[frame_idx]\n\u001b[0;32m---> 15\u001b[0m image \u001b[38;5;241m=\u001b[39m \u001b[43mframe\u001b[49m\u001b[38;5;241;43m.\u001b[39;49m\u001b[43mget_image\u001b[49m\u001b[43m(\u001b[49m\u001b[43mAnonymization\u001b[49m\u001b[38;5;241;43m.\u001b[39;49m\u001b[43mDNAT\u001b[49m\u001b[43m)\u001b[49m\n\u001b[1;32m     16\u001b[0m poses \u001b[38;5;241m=\u001b[39m frame\u001b[38;5;241m.\u001b[39mego_motion\u001b[38;5;241m.\u001b[39mposes\n\u001b[1;32m     17\u001b[0m x \u001b[38;5;241m=\u001b[39m poses[:,\u001b[38;5;241m0\u001b[39m:\u001b[38;5;241m1\u001b[39m,\u001b[38;5;241m3\u001b[39m]\n",
                  "File \u001b[0;32m~/anaconda3/envs/zen/lib/python3.9/site-packages/zod/zod_dataclasses/frame.py:61\u001b[0m, in \u001b[0;36mZodFrame.get_image\u001b[0;34m(self, anonymization)\u001b[0m\n\u001b[1;32m     56\u001b[0m \u001b[38;5;28;01mdef\u001b[39;00m \u001b[38;5;21mget_image\u001b[39m(\n\u001b[1;32m     57\u001b[0m     \u001b[38;5;28mself\u001b[39m,\n\u001b[1;32m     58\u001b[0m     anonymization: Anonymization \u001b[38;5;241m=\u001b[39m Anonymization\u001b[38;5;241m.\u001b[39mBLUR,\n\u001b[1;32m     59\u001b[0m ) \u001b[38;5;241m-\u001b[39m\u001b[38;5;241m>\u001b[39m np\u001b[38;5;241m.\u001b[39mndarray:\n\u001b[1;32m     60\u001b[0m     \u001b[38;5;124;03m\"\"\"Get the image.\"\"\"\u001b[39;00m\n\u001b[0;32m---> 61\u001b[0m     \u001b[38;5;28;01mreturn\u001b[39;00m \u001b[38;5;28;43mself\u001b[39;49m\u001b[38;5;241;43m.\u001b[39;49m\u001b[43minfo\u001b[49m\u001b[38;5;241;43m.\u001b[39;49m\u001b[43mget_key_camera_frame\u001b[49m\u001b[43m(\u001b[49m\n\u001b[1;32m     62\u001b[0m \u001b[43m        \u001b[49m\u001b[43mcamera\u001b[49m\u001b[38;5;241;43m=\u001b[39;49m\u001b[43mCamera\u001b[49m\u001b[38;5;241;43m.\u001b[39;49m\u001b[43mFRONT\u001b[49m\u001b[43m,\u001b[49m\u001b[43m \u001b[49m\u001b[43manonymization\u001b[49m\u001b[38;5;241;43m=\u001b[39;49m\u001b[43manonymization\u001b[49m\n\u001b[1;32m     63\u001b[0m \u001b[43m    \u001b[49m\u001b[43m)\u001b[49m\u001b[38;5;241;43m.\u001b[39;49m\u001b[43mread\u001b[49m\u001b[43m(\u001b[49m\u001b[43m)\u001b[49m\n",
                  "File \u001b[0;32m~/anaconda3/envs/zen/lib/python3.9/site-packages/zod/zod_dataclasses/sensor.py:155\u001b[0m, in \u001b[0;36mCameraFrame.read\u001b[0;34m(self)\u001b[0m\n\u001b[1;32m    153\u001b[0m \u001b[38;5;28;01mdef\u001b[39;00m \u001b[38;5;21mread\u001b[39m(\u001b[38;5;28mself\u001b[39m) \u001b[38;5;241m-\u001b[39m\u001b[38;5;241m>\u001b[39m np\u001b[38;5;241m.\u001b[39mndarray:\n\u001b[1;32m    154\u001b[0m     \u001b[38;5;124;03m\"\"\"Read the image.\"\"\"\u001b[39;00m\n\u001b[0;32m--> 155\u001b[0m     \u001b[38;5;28;01mreturn\u001b[39;00m \u001b[43mnp\u001b[49m\u001b[38;5;241;43m.\u001b[39;49m\u001b[43marray\u001b[49m\u001b[43m(\u001b[49m\u001b[43mImage\u001b[49m\u001b[38;5;241;43m.\u001b[39;49m\u001b[43mopen\u001b[49m\u001b[43m(\u001b[49m\u001b[38;5;28;43mself\u001b[39;49m\u001b[38;5;241;43m.\u001b[39;49m\u001b[43mfilepath\u001b[49m\u001b[43m)\u001b[49m\u001b[43m)\u001b[49m\n",
                  "File \u001b[0;32m~/anaconda3/envs/zen/lib/python3.9/site-packages/PIL/Image.py:701\u001b[0m, in \u001b[0;36mImage.__array_interface__\u001b[0;34m(self)\u001b[0m\n\u001b[1;32m    699\u001b[0m         new[\u001b[38;5;124m\"\u001b[39m\u001b[38;5;124mdata\u001b[39m\u001b[38;5;124m\"\u001b[39m] \u001b[38;5;241m=\u001b[39m \u001b[38;5;28mself\u001b[39m\u001b[38;5;241m.\u001b[39mtobytes(\u001b[38;5;124m\"\u001b[39m\u001b[38;5;124mraw\u001b[39m\u001b[38;5;124m\"\u001b[39m, \u001b[38;5;124m\"\u001b[39m\u001b[38;5;124mL\u001b[39m\u001b[38;5;124m\"\u001b[39m)\n\u001b[1;32m    700\u001b[0m     \u001b[38;5;28;01melse\u001b[39;00m:\n\u001b[0;32m--> 701\u001b[0m         new[\u001b[38;5;124m\"\u001b[39m\u001b[38;5;124mdata\u001b[39m\u001b[38;5;124m\"\u001b[39m] \u001b[38;5;241m=\u001b[39m \u001b[38;5;28;43mself\u001b[39;49m\u001b[38;5;241;43m.\u001b[39;49m\u001b[43mtobytes\u001b[49m\u001b[43m(\u001b[49m\u001b[43m)\u001b[49m\n\u001b[1;32m    702\u001b[0m \u001b[38;5;28;01mexcept\u001b[39;00m \u001b[38;5;167;01mException\u001b[39;00m \u001b[38;5;28;01mas\u001b[39;00m e:\n\u001b[1;32m    703\u001b[0m     \u001b[38;5;28;01mif\u001b[39;00m \u001b[38;5;129;01mnot\u001b[39;00m \u001b[38;5;28misinstance\u001b[39m(e, (\u001b[38;5;167;01mMemoryError\u001b[39;00m, \u001b[38;5;167;01mRecursionError\u001b[39;00m)):\n",
                  "File \u001b[0;32m~/anaconda3/envs/zen/lib/python3.9/site-packages/PIL/Image.py:758\u001b[0m, in \u001b[0;36mImage.tobytes\u001b[0;34m(self, encoder_name, *args)\u001b[0m\n\u001b[1;32m    755\u001b[0m \u001b[38;5;28;01mif\u001b[39;00m encoder_name \u001b[38;5;241m==\u001b[39m \u001b[38;5;124m\"\u001b[39m\u001b[38;5;124mraw\u001b[39m\u001b[38;5;124m\"\u001b[39m \u001b[38;5;129;01mand\u001b[39;00m args \u001b[38;5;241m==\u001b[39m ():\n\u001b[1;32m    756\u001b[0m     args \u001b[38;5;241m=\u001b[39m \u001b[38;5;28mself\u001b[39m\u001b[38;5;241m.\u001b[39mmode\n\u001b[0;32m--> 758\u001b[0m \u001b[38;5;28;43mself\u001b[39;49m\u001b[38;5;241;43m.\u001b[39;49m\u001b[43mload\u001b[49m\u001b[43m(\u001b[49m\u001b[43m)\u001b[49m\n\u001b[1;32m    760\u001b[0m \u001b[38;5;28;01mif\u001b[39;00m \u001b[38;5;28mself\u001b[39m\u001b[38;5;241m.\u001b[39mwidth \u001b[38;5;241m==\u001b[39m \u001b[38;5;241m0\u001b[39m \u001b[38;5;129;01mor\u001b[39;00m \u001b[38;5;28mself\u001b[39m\u001b[38;5;241m.\u001b[39mheight \u001b[38;5;241m==\u001b[39m \u001b[38;5;241m0\u001b[39m:\n\u001b[1;32m    761\u001b[0m     \u001b[38;5;28;01mreturn\u001b[39;00m \u001b[38;5;124mb\u001b[39m\u001b[38;5;124m\"\u001b[39m\u001b[38;5;124m\"\u001b[39m\n",
                  "File \u001b[0;32m~/anaconda3/envs/zen/lib/python3.9/site-packages/PIL/ImageFile.py:269\u001b[0m, in \u001b[0;36mImageFile.load\u001b[0;34m(self)\u001b[0m\n\u001b[1;32m    266\u001b[0m         \u001b[38;5;28;01mraise\u001b[39;00m \u001b[38;5;167;01mOSError\u001b[39;00m(msg)\n\u001b[1;32m    268\u001b[0m b \u001b[38;5;241m=\u001b[39m b \u001b[38;5;241m+\u001b[39m s\n\u001b[0;32m--> 269\u001b[0m n, err_code \u001b[38;5;241m=\u001b[39m \u001b[43mdecoder\u001b[49m\u001b[38;5;241;43m.\u001b[39;49m\u001b[43mdecode\u001b[49m\u001b[43m(\u001b[49m\u001b[43mb\u001b[49m\u001b[43m)\u001b[49m\n\u001b[1;32m    270\u001b[0m \u001b[38;5;28;01mif\u001b[39;00m n \u001b[38;5;241m<\u001b[39m \u001b[38;5;241m0\u001b[39m:\n\u001b[1;32m    271\u001b[0m     \u001b[38;5;28;01mbreak\u001b[39;00m\n",
                  "\u001b[0;31mKeyboardInterrupt\u001b[0m: "
               ]
            }
         ],
         "source": [
            "# create and add clients\n",
            "clients_network = [create_client(i) for i in range(NUM_CLIENTS)]\n",
            "\n",
            "# swarm simulation - fully connected graph\n",
            "nodes, edges = simulate_fully_connected_graph(clients_network)"
         ]
      },
      {
         "cell_type": "code",
         "execution_count": null,
         "metadata": {},
         "outputs": [],
         "source": [
            "plot_typology_graph(nodes, edges)"
         ]
      },
      {
         "cell_type": "code",
         "execution_count": null,
         "metadata": {},
         "outputs": [],
         "source": [
            "# create and add clients\n",
            "clients_network = [create_client(i) for i in range(NUM_CLIENTS)]\n",
            "\n",
            "# swarm simulation - dynamic graph\n",
            "nodes, edges = simulate_random_dynamic_graph(clients_network)"
         ]
      },
      {
         "cell_type": "code",
         "execution_count": null,
         "metadata": {},
         "outputs": [],
         "source": [
            "plot_typology_graph(nodes, edges)"
         ]
      },
      {
         "cell_type": "code",
         "execution_count": null,
         "metadata": {},
         "outputs": [],
         "source": []
      },
      {
         "cell_type": "code",
         "execution_count": null,
         "metadata": {},
         "outputs": [],
         "source": []
      },
      {
         "cell_type": "code",
         "execution_count": null,
         "metadata": {},
         "outputs": [],
         "source": []
      },
      {
         "cell_type": "code",
         "execution_count": null,
         "metadata": {},
         "outputs": [],
         "source": []
      },
      {
         "cell_type": "code",
         "execution_count": null,
         "metadata": {},
         "outputs": [],
         "source": []
      },
      {
         "cell_type": "code",
         "execution_count": null,
         "metadata": {},
         "outputs": [],
         "source": []
      },
      {
         "cell_type": "code",
         "execution_count": null,
         "metadata": {},
         "outputs": [],
         "source": []
      },
      {
         "cell_type": "code",
         "execution_count": null,
         "metadata": {},
         "outputs": [],
         "source": []
      },
      {
         "cell_type": "code",
         "execution_count": null,
         "metadata": {},
         "outputs": [],
         "source": []
      },
      {
         "cell_type": "code",
         "execution_count": null,
         "metadata": {},
         "outputs": [],
         "source": []
      }
   ],
   "metadata": {
      "accelerator": "GPU",
      "colab": {
         "provenance": []
      },
      "gpuClass": "standard",
      "kernelspec": {
         "display_name": "zen",
         "language": "python",
         "name": "python3"
      },
      "language_info": {
         "codemirror_mode": {
            "name": "ipython",
            "version": 3
         },
         "file_extension": ".py",
         "mimetype": "text/x-python",
         "name": "python",
         "nbconvert_exporter": "python",
         "pygments_lexer": "ipython3",
         "version": "3.9.16"
      },
      "vscode": {
         "interpreter": {
            "hash": "43b8dc11de9fe17006ac8ed8cf017ace504532ef7a55eb33a4525f55610215a8"
         }
      }
   },
   "nbformat": 4,
   "nbformat_minor": 1
}
