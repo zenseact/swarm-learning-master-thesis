{
 "cells": [
  {
   "attachments": {},
   "cell_type": "markdown",
   "metadata": {},
   "source": [
    "## Basic Centralised Example"
   ]
  },
  {
   "cell_type": "code",
   "execution_count": 2,
   "metadata": {},
   "outputs": [
    {
     "name": "stdout",
     "output_type": "stream",
     "text": [
      "No same run found, creating new run\n"
     ]
    },
    {
     "data": {
      "application/vnd.jupyter.widget-view+json": {
       "model_id": "cee139a2d13b41719f662bb94c9aa38b",
       "version_major": 2,
       "version_minor": 0
      },
      "text/plain": [
       "Loading train frames:   0%|          | 0/89976 [00:00<?, ?it/s]"
      ]
     },
     "metadata": {},
     "output_type": "display_data"
    },
    {
     "data": {
      "application/vnd.jupyter.widget-view+json": {
       "model_id": "66f2e12c7fec4d18b1b043c064d98290",
       "version_major": 2,
       "version_minor": 0
      },
      "text/plain": [
       "Loading val frames:   0%|          | 0/10024 [00:00<?, ?it/s]"
      ]
     },
     "metadata": {},
     "output_type": "display_data"
    }
   ],
   "source": [
    "from fedswarm import Platform\n",
    "\n",
    "config = {\n",
    "    \"data\":{\n",
    "        \"path\": \"/mnt/ZOD\",\n",
    "        \"version\":\"full\",\n",
    "        \"ratio\":0.001,\n",
    "        \"img_size\": 160,\n",
    "        \"transforms\":\"[Resize(img_size)]\",\n",
    "        \"shuffle_seed\": 42,\n",
    "        \"decentralised_shuffle_seed\": 42,\n",
    "        \"dataloader_args\": {\n",
    "            \"batch_size\": 32,\n",
    "        },\n",
    "        \"train_val_id_generator\":\"balanced_frames\",\n",
    "        \"dataset_getitem\":\"interpolated_target_distances\",\n",
    "    },\n",
    "    \"model\":{\n",
    "        \"name\": \"ptnet\",\n",
    "        \"args\": {\n",
    "            \"num_output\":51\n",
    "        },\n",
    "        \"loss\":\"L1Loss\"\n",
    "    },\n",
    "    \"central\":{\n",
    "        \"train\":True,\n",
    "        \"use_gpu\":True,\n",
    "        \"epochs\": 60\n",
    "    }\n",
    "}\n",
    "\n",
    "platform = Platform(config)"
   ]
  },
  {
   "attachments": {},
   "cell_type": "markdown",
   "metadata": {},
   "source": [
    "## Adding ROI-crop\n",
    "makes it slightly slower, same convergence ish but also slower"
   ]
  },
  {
   "cell_type": "code",
   "execution_count": 3,
   "metadata": {},
   "outputs": [
    {
     "name": "stdout",
     "output_type": "stream",
     "text": [
      "No same run found, creating new run\n"
     ]
    },
    {
     "data": {
      "application/vnd.jupyter.widget-view+json": {
       "model_id": "e0b854a8deb94cde8165a1df7a132565",
       "version_major": 2,
       "version_minor": 0
      },
      "text/plain": [
       "Loading train frames:   0%|          | 0/89976 [00:00<?, ?it/s]"
      ]
     },
     "metadata": {},
     "output_type": "display_data"
    },
    {
     "data": {
      "application/vnd.jupyter.widget-view+json": {
       "model_id": "550e40cc8a8c48b58314ad8ac276973c",
       "version_major": 2,
       "version_minor": 0
      },
      "text/plain": [
       "Loading val frames:   0%|          | 0/10024 [00:00<?, ?it/s]"
      ]
     },
     "metadata": {},
     "output_type": "display_data"
    }
   ],
   "source": [
    "from fedswarm import Platform\n",
    "\n",
    "config = {\n",
    "    \"data\":{\n",
    "        \"path\": \"/mnt/ZOD\",\n",
    "        \"version\":\"full\",\n",
    "        \"ratio\":0.001,\n",
    "        \"img_size\": [400, 1420],\n",
    "        \"transforms\":\"[CustomCrop(800, 500, 800, 2840), Resize((400, 1420))]\",\n",
    "        \"shuffle_seed\": 42,\n",
    "        \"decentralised_shuffle_seed\": 42,\n",
    "        \"dataloader_args\": {\n",
    "            \"batch_size\": 32,\n",
    "        },\n",
    "        \"train_val_id_generator\":\"balanced_frames\",\n",
    "        \"dataset_getitem\":\"interpolated_target_distances\",\n",
    "    },\n",
    "    \"model\":{\n",
    "        \"name\": \"ptnet\",\n",
    "        \"args\": {\n",
    "            \"num_output\":51\n",
    "        },\n",
    "        \"loss\":\"L1Loss\"\n",
    "    },\n",
    "    \"central\":{\n",
    "        \"train\":True,\n",
    "        \"use_gpu\":True,\n",
    "        \"epochs\": 60\n",
    "    }\n",
    "}\n",
    "\n",
    "platform = Platform(config)"
   ]
  },
  {
   "attachments": {},
   "cell_type": "markdown",
   "metadata": {},
   "source": [
    "## Adding prefetching and concurrent data loading\n",
    "Actually just made the training slower."
   ]
  },
  {
   "cell_type": "code",
   "execution_count": 4,
   "metadata": {},
   "outputs": [
    {
     "name": "stdout",
     "output_type": "stream",
     "text": [
      "No same run found, creating new run\n"
     ]
    },
    {
     "data": {
      "application/vnd.jupyter.widget-view+json": {
       "model_id": "d645fd40a6b44b638aebf8721ed78b75",
       "version_major": 2,
       "version_minor": 0
      },
      "text/plain": [
       "Loading train frames:   0%|          | 0/89976 [00:00<?, ?it/s]"
      ]
     },
     "metadata": {},
     "output_type": "display_data"
    },
    {
     "data": {
      "application/vnd.jupyter.widget-view+json": {
       "model_id": "0b7668f41d294c1190e5986fe64c630c",
       "version_major": 2,
       "version_minor": 0
      },
      "text/plain": [
       "Loading val frames:   0%|          | 0/10024 [00:00<?, ?it/s]"
      ]
     },
     "metadata": {},
     "output_type": "display_data"
    }
   ],
   "source": [
    "from fedswarm import Platform\n",
    "\n",
    "config = {\n",
    "    \"data\":{\n",
    "        \"path\": \"/mnt/ZOD\",\n",
    "        \"version\":\"full\",\n",
    "        \"ratio\":0.001,\n",
    "        \"img_size\": [400, 1420],\n",
    "        \"transforms\":\"[CustomCrop(800, 500, 800, 2840), Resize((400, 1420))]\",\n",
    "        \"shuffle_seed\": 42,\n",
    "        \"decentralised_shuffle_seed\": 42,\n",
    "        \"dataloader_args\": {\n",
    "            \"num_workers\": 4,\n",
    "            \"prefetch_factor\": 2,\n",
    "            \"batch_size\": 32,\n",
    "        },\n",
    "        \"train_val_id_generator\":\"balanced_frames\",\n",
    "        \"dataset_getitem\":\"interpolated_target_distances\",\n",
    "    },\n",
    "    \"model\":{\n",
    "        \"name\": \"ptnet\",\n",
    "        \"args\": {\n",
    "            \"num_output\":51\n",
    "        },\n",
    "        \"loss\":\"L1Loss\"\n",
    "    },\n",
    "    \"central\":{\n",
    "        \"train\":True,\n",
    "        \"use_gpu\":True,\n",
    "        \"epochs\": 60\n",
    "    }\n",
    "}\n",
    "\n",
    "platform = Platform(config)"
   ]
  },
  {
   "attachments": {},
   "cell_type": "markdown",
   "metadata": {},
   "source": [
    "## Removing prefetching and adding pin_memory\n",
    "Slightly bit faster, but not much"
   ]
  },
  {
   "cell_type": "code",
   "execution_count": 1,
   "metadata": {},
   "outputs": [
    {
     "name": "stdout",
     "output_type": "stream",
     "text": [
      "No same run found, creating new run\n"
     ]
    },
    {
     "data": {
      "application/vnd.jupyter.widget-view+json": {
       "model_id": "efae94d54698441a8681f80b1aad921d",
       "version_major": 2,
       "version_minor": 0
      },
      "text/plain": [
       "Loading train frames:   0%|          | 0/89976 [00:00<?, ?it/s]"
      ]
     },
     "metadata": {},
     "output_type": "display_data"
    },
    {
     "data": {
      "application/vnd.jupyter.widget-view+json": {
       "model_id": "668a93e026ce4a748991b459e17520c0",
       "version_major": 2,
       "version_minor": 0
      },
      "text/plain": [
       "Loading val frames:   0%|          | 0/10024 [00:00<?, ?it/s]"
      ]
     },
     "metadata": {},
     "output_type": "display_data"
    }
   ],
   "source": [
    "from fedswarm import Platform\n",
    "\n",
    "config = {\n",
    "    \"data\":{\n",
    "        \"path\": \"/mnt/ZOD\",\n",
    "        \"version\":\"full\",\n",
    "        \"ratio\":0.001,\n",
    "        \"img_size\": [400, 1420],\n",
    "        \"transforms\":\"[CustomCrop(800, 500, 800, 2840), Resize((400, 1420))]\",\n",
    "        \"shuffle_seed\": 42,\n",
    "        \"decentralised_shuffle_seed\": 42,\n",
    "        \"dataloader_args\": {\n",
    "            \"pin_memory\": True,\n",
    "            \"batch_size\": 32,\n",
    "        },\n",
    "        \"train_val_id_generator\":\"balanced_frames\",\n",
    "        \"dataset_getitem\":\"interpolated_target_distances\",\n",
    "    },\n",
    "    \"model\":{\n",
    "        \"name\": \"ptnet\",\n",
    "        \"args\": {\n",
    "            \"num_output\":51\n",
    "        },\n",
    "        \"loss\":\"L1Loss\"\n",
    "    },\n",
    "    \"central\":{\n",
    "        \"train\":True,\n",
    "        \"use_gpu\":True,\n",
    "        \"epochs\": 60\n",
    "    }\n",
    "}\n",
    "\n",
    "platform = Platform(config)"
   ]
  },
  {
   "attachments": {},
   "cell_type": "markdown",
   "metadata": {},
   "source": [
    "## Using PTNet2 (from 100 neuron heads to 2048)\n",
    "Faster convergence, but slower training."
   ]
  },
  {
   "cell_type": "code",
   "execution_count": 2,
   "metadata": {},
   "outputs": [
    {
     "name": "stdout",
     "output_type": "stream",
     "text": [
      "No same run found, creating new run\n"
     ]
    },
    {
     "data": {
      "application/vnd.jupyter.widget-view+json": {
       "model_id": "bfb62ddd7119440ca5c8ecad6e6b8361",
       "version_major": 2,
       "version_minor": 0
      },
      "text/plain": [
       "Loading train frames:   0%|          | 0/89976 [00:00<?, ?it/s]"
      ]
     },
     "metadata": {},
     "output_type": "display_data"
    },
    {
     "data": {
      "application/vnd.jupyter.widget-view+json": {
       "model_id": "273d5134882c4b20b10353173d759185",
       "version_major": 2,
       "version_minor": 0
      },
      "text/plain": [
       "Loading val frames:   0%|          | 0/10024 [00:00<?, ?it/s]"
      ]
     },
     "metadata": {},
     "output_type": "display_data"
    }
   ],
   "source": [
    "from fedswarm import Platform\n",
    "\n",
    "config = {\n",
    "    \"data\":{\n",
    "        \"path\": \"/mnt/ZOD\",\n",
    "        \"version\":\"full\",\n",
    "        \"ratio\":0.001,\n",
    "        \"img_size\": [400, 1420],\n",
    "        \"transforms\":\"[CustomCrop(800, 500, 800, 2840), Resize((400, 1420))]\",\n",
    "        \"shuffle_seed\": 42,\n",
    "        \"decentralised_shuffle_seed\": 42,\n",
    "        \"dataloader_args\": {\n",
    "            \"pin_memory\": True,\n",
    "            \"batch_size\": 32,\n",
    "        },\n",
    "        \"train_val_id_generator\":\"balanced_frames\",\n",
    "        \"dataset_getitem\":\"interpolated_target_distances\",\n",
    "    },\n",
    "    \"model\":{\n",
    "        \"name\": \"ptnet2\",\n",
    "        \"args\": {\n",
    "            \"num_output\":51\n",
    "        },\n",
    "        \"loss\":\"L1Loss\"\n",
    "    },\n",
    "    \"central\":{\n",
    "        \"train\":True,\n",
    "        \"use_gpu\":True,\n",
    "        \"epochs\": 60\n",
    "    }\n",
    "}\n",
    "\n",
    "platform = Platform(config)"
   ]
  },
  {
   "cell_type": "code",
   "execution_count": null,
   "metadata": {},
   "outputs": [],
   "source": []
  }
 ],
 "metadata": {
  "kernelspec": {
   "display_name": "swarm",
   "language": "python",
   "name": "python3"
  },
  "language_info": {
   "codemirror_mode": {
    "name": "ipython",
    "version": 3
   },
   "file_extension": ".py",
   "mimetype": "text/x-python",
   "name": "python",
   "nbconvert_exporter": "python",
   "pygments_lexer": "ipython3",
   "version": "3.10.9"
  },
  "orig_nbformat": 4
 },
 "nbformat": 4,
 "nbformat_minor": 2
}
