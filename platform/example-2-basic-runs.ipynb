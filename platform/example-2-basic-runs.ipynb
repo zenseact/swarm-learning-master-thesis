{
 "cells": [
  {
   "cell_type": "markdown",
   "metadata": {},
   "source": [
    "## Basic Swarm Example"
   ]
  },
  {
   "cell_type": "code",
   "execution_count": 1,
   "metadata": {},
   "outputs": [
    {
     "data": {
      "application/vnd.jupyter.widget-view+json": {
       "model_id": "96339ece35194020b0671a8d8942041b",
       "version_major": 2,
       "version_minor": 0
      },
      "text/plain": [
       "Loading train frames:   0%|          | 0/89976 [00:00<?, ?it/s]"
      ]
     },
     "metadata": {},
     "output_type": "display_data"
    },
    {
     "data": {
      "application/vnd.jupyter.widget-view+json": {
       "model_id": "0412b4ea50714ebb9ceda09613c4a68c",
       "version_major": 2,
       "version_minor": 0
      },
      "text/plain": [
       "Loading val frames:   0%|          | 0/10024 [00:00<?, ?it/s]"
      ]
     },
     "metadata": {},
     "output_type": "display_data"
    },
    {
     "name": "stderr",
     "output_type": "stream",
     "text": [
      "2023-03-26 03:07:22,743\tINFO worker.py:1529 -- Started a local Ray instance. View the dashboard at \u001b[1m\u001b[32m127.0.0.1:8265 \u001b[39m\u001b[22m\n"
     ]
    }
   ],
   "source": [
    "from src import Platform\n",
    "\n",
    "config = {\n",
    "    \"data\":{\n",
    "        \"path\": \"/mnt/ZOD\",\n",
    "        \"version\":\"full\",\n",
    "        \"ratio\":0.005,\n",
    "        \"img_size\": 160,\n",
    "        \"transforms\":\"[Resize(img_size)]\",\n",
    "        \"shuffle_seed\": 42,\n",
    "        \"decentralised_shuffle_seed\": 42,\n",
    "        \"dataloader_args\": {\n",
    "            \"batch_size\": 32,\n",
    "        },\n",
    "        \"train_val_id_generator\":\"balanced_frames\",\n",
    "        \"dataset_getitem\":\"interpolated_target_distances\",\n",
    "    },\n",
    "    \"model\":{\n",
    "        \"name\": \"ptnet\",\n",
    "        \"args\": {\n",
    "            \"num_output\":51\n",
    "        },\n",
    "        \"loss\":\"L1Loss\"\n",
    "    },\n",
    "    \"central\":{\n",
    "        \"train\":\"false\",\n",
    "        \"use_gpu\":\"true\",\n",
    "        \"epochs\": 10\n",
    "    },\n",
    "    \"decentralised\":{\n",
    "        \"train\": [\"swarm\"],\n",
    "        \"global\":{\n",
    "            \"n_clients\":3,\n",
    "            \"global_rounds\":3,\n",
    "            \"client_resources\":{\n",
    "                \"num_cpus\": 1, \n",
    "                \"num_gpus\": 0.3\n",
    "            },\n",
    "            \"ray_init_args\":{\n",
    "                \"include_dashboard\": True,\n",
    "                \"num_cpus\": 4,\n",
    "                \"num_gpus\": 2\n",
    "            }\n",
    "        },\n",
    "        \"client\": {\n",
    "            \"epochs\": 3\n",
    "        }\n",
    "    }\n",
    "}\n",
    "\n",
    "platform = Platform(config)"
   ]
  },
  {
   "cell_type": "code",
   "execution_count": null,
   "metadata": {},
   "outputs": [],
   "source": []
  }
 ],
 "metadata": {
  "kernelspec": {
   "display_name": "swarm",
   "language": "python",
   "name": "python3"
  },
  "language_info": {
   "codemirror_mode": {
    "name": "ipython",
    "version": 3
   },
   "file_extension": ".py",
   "mimetype": "text/x-python",
   "name": "python",
   "nbconvert_exporter": "python",
   "pygments_lexer": "ipython3",
   "version": "3.10.9"
  },
  "orig_nbformat": 4
 },
 "nbformat": 4,
 "nbformat_minor": 2
}
