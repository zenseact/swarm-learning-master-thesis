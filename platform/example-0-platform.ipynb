{
 "cells": [
  {
   "attachments": {},
   "cell_type": "markdown",
   "metadata": {},
   "source": [
    "# The basics of the ML platform\n",
    "This ML platform is a highly capable and customisable tool for building and training machine learning models. It takes a configuration object with various parameters, such as data location, image size, model type, and loss function, to simplify the process of building and training models. The platform can be used for central and decentralized training and allows access to data without running any training. The platform makes it easy to build and train machine learning models with minimal coding and configuration.\n",
    "\n",
    "In this notebook we will go through the basics of the platform. We will start by importing the platform and creating a configuration object. We will then use the configuration object to create a dataset and a model. We will then train the model and evaluate the results.\n",
    "\n",
    "## The configuration object\n",
    "The configuration object is a dictionary that contains all the parameters needed to build and train a model. The configuration object is passed to the platform when creating a dataset, a model, or when training a model. The configuration object is also stored so that it can be used to reproduce the results.\n",
    "\n",
    "Let's take a look at the `config`"
   ]
  },
  {
   "cell_type": "code",
   "execution_count": 3,
   "metadata": {},
   "outputs": [],
   "source": [
    "config = {\n",
    "    \"data\":{\n",
    "        \"path\": \"/mnt/ZOD\",\n",
    "        \"version\":\"full\",\n",
    "        \"ratio\":0.003,\n",
    "        \"shuffle_seed\": 42,\n",
    "        \"img_size\": 160,\n",
    "        \"transforms\":\"[Resize((img_size, img_size))]\",\n",
    "        \"dataloader_args\": {\n",
    "            \"prefetch_factor\": 2,\n",
    "            \"num_workers\": 2,\n",
    "            \"batch_size\": 32,\n",
    "        }\n",
    "    },\n",
    "    \"model\":{\n",
    "        \"name\": \"ptnet\",\n",
    "        \"args\": {\n",
    "            \"num_output\":66\n",
    "        },\n",
    "        \"loss\":\"MSELoss\"\n",
    "    },\n",
    "    \"central\":{\n",
    "        \"train\":\"true\",\n",
    "        \"use_gpu\":\"true\",\n",
    "        \"epochs\": 10\n",
    "    },\n",
    "    \"decentralised\":{\n",
    "        \"train\": [],\n",
    "        \"global\":{\n",
    "            \"n_clients\":5,\n",
    "            \"global_rounds\":3,\n",
    "            \"client_resources\":{\n",
    "                \"num_cpus\": 2, \n",
    "                \"num_gpus\": 0.2\n",
    "            },\n",
    "            \"ray_init_args\":{\n",
    "                \"include_dashboard\": True,\n",
    "                \"num_cpus\": 12,\n",
    "                \"num_gpus\": 2\n",
    "            },\n",
    "            \"swarm_orchestrator\": \"synchronous_fixed_rounds_fc\",\n",
    "        },\n",
    "        \"client\": {\n",
    "            \"epochs\": 3\n",
    "        }\n",
    "    }\n",
    "}"
   ]
  },
  {
   "attachments": {},
   "cell_type": "markdown",
   "metadata": {},
   "source": [
    "Let's take a look at the `config` object. The `config` object is a dictionary that contains all the parameters needed to build and train a model. The `config` object is passed to the platform when creating a dataset, a model, or when training a model. The `config` object is also stored so that it can be used to reproduce the results.\n",
    "\n",
    "Not all parameters are required. The above example configuration is one of the minimal examples where we use the same global and client configuration for our decentralised methods and limited to no custom methods. For more information about the schema of the configuration object, please see the [configuration schema](utils/templates/config_schema.json)."
   ]
  },
  {
   "attachments": {},
   "cell_type": "markdown",
   "metadata": {},
   "source": [
    "Now, let's run the platform with the configuration object. The above configuration will create our required datasets and models, and train them. When you create an instance of the platform, a `run` is initalised. A `run` is stored under the `runs` folder and is named after the timestamp of when the platform was initalised (2023-03-14_15:02:49). The results and pending progress is logged to tensorboard files that are stored in this folder and all log files are also stored in this `run` folder.\n",
    "\n",
    "To begin, we will start a tensorboard session to monitor the training progress. To do this, run the following command in a terminal:\n",
    "\n",
    "```bash\n",
    "tensorboard --logdir runs\n",
    "```\n",
    "\n",
    "This will start a web server that will allow you to monitor the training progress. You can access the web server by going to [http://localhost:6006](http://localhost:6006) (Or other port if specified)."
   ]
  },
  {
   "cell_type": "code",
   "execution_count": 4,
   "metadata": {},
   "outputs": [
    {
     "data": {
      "application/vnd.jupyter.widget-view+json": {
       "model_id": "757e4460cb554f90af9560477ea971eb",
       "version_major": 2,
       "version_minor": 0
      },
      "text/plain": [
       "Loading train frames:   0%|          | 0/89976 [00:00<?, ?it/s]"
      ]
     },
     "metadata": {},
     "output_type": "display_data"
    },
    {
     "data": {
      "application/vnd.jupyter.widget-view+json": {
       "model_id": "8e32084dfb534438843870a947a65972",
       "version_major": 2,
       "version_minor": 0
      },
      "text/plain": [
       "Loading val frames:   0%|          | 0/10024 [00:00<?, ?it/s]"
      ]
     },
     "metadata": {},
     "output_type": "display_data"
    }
   ],
   "source": [
    "from src import Platform\n",
    "\n",
    "platform = Platform(config)"
   ]
  },
  {
   "attachments": {},
   "cell_type": "markdown",
   "metadata": {},
   "source": [
    "We've now managed to successfully run the platform using some of our default parameters. Let's take a look at what the platform has done."
   ]
  }
 ],
 "metadata": {
  "kernelspec": {
   "display_name": "swarm",
   "language": "python",
   "name": "python3"
  },
  "language_info": {
   "codemirror_mode": {
    "name": "ipython",
    "version": 3
   },
   "file_extension": ".py",
   "mimetype": "text/x-python",
   "name": "python",
   "nbconvert_exporter": "python",
   "pygments_lexer": "ipython3",
   "version": "3.10.9"
  },
  "orig_nbformat": 4
 },
 "nbformat": 4,
 "nbformat_minor": 2
}
