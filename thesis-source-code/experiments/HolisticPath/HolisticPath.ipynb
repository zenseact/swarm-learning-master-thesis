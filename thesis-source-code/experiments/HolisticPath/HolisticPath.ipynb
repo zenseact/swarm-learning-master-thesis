{
    "cells": [
        {
            "attachments": {},
            "cell_type": "markdown",
            "metadata": {},
            "source": [
                "# Holistic Path Benchmark\n",
                "In this experiment we will try to produce comparable results between various learning methods. We will use Holistic Path as our task and train a centralised, federated, swarm, and federated baseline model. We will then compare the results of these models to see how decentralised learning compares to centralised learning for this specific task.\n",
                "\n",
                "Our configuration for this specific setup is as follows:\n",
                "- Balanced Dataset\n",
                "- 100% of the balanced dataset is used\n",
                "- ROI frame cropping\n",
                "- Pre-trained ResNet18\n",
                "- 5 Clients\n",
                "- Swarm setup is a fully connected static network\n",
                "\n",
                "Below is the full configuration\n"
            ]
        },
        {
            "cell_type": "code",
            "execution_count": 17,
            "metadata": {},
            "outputs": [],
            "source": [
                "import json\n",
                "\n",
                "config = {\n",
                "    \"data\": {\n",
                "        \"path\": \"/mnt/ZOD\",\n",
                "        \"version\": \"full\",\n",
                "        \"ratio\": 0.05,\n",
                "        \"ratio_val\": 1,\n",
                "        \"skip_test\": True,\n",
                "        \"img_size\": [256, 256],\n",
                "        \"transforms\": \"[CustomCrop(800, 500, 800, 2840), Resize(img_size), Normalize(mean=[0.337, 0.345, 0.367], std=[0.160, 0.180, 0.214])]\",\n",
                "        \"shuffle_seed\": 101,\n",
                "        \"decentralised_shuffle_seed\": 101,\n",
                "        \"dataloader_args\": {\n",
                "            \"num_workers\": 8,\n",
                "            \"prefetch_factor\": 128,\n",
                "            \"batch_size\": 16,\n",
                "            \"pin_memory\": False,\n",
                "            \"shuffle\": True,\n",
                "        },\n",
                "        \"train_val_id_generator\": \"balanced_frames_kilichenko\",\n",
                "        \"dataset_getitem\": \"interpolated_target_distances\"\n",
                "    },\n",
                "    \"model\": {\n",
                "        \"name\": \"mobilenet\",\n",
                "        \"args\": {\n",
                "            \"num_output\": 51\n",
                "        },\n",
                "        \"loss\": \"L1Loss\",\n",
                "        \"optimiser\": \"Adam\",\n",
                "        \"optimiser_args\": {\n",
                "            \"lr\": 1e-3\n",
                "        }\n",
                "    },\n",
                "    \"central\": {\n",
                "        \"train\": False,\n",
                "        \"use_gpu\": True,\n",
                "        \"epochs\": 150\n",
                "    }, \n",
                "}\n",
                "\n",
                "with open(\"config.json\", \"w\") as f:\n",
                "    json.dump(config, f, indent=4)"
            ]
        },
        {
            "cell_type": "code",
            "execution_count": 18,
            "metadata": {},
            "outputs": [],
            "source": [
                "from copy import deepcopy\n",
                "\n",
                "decentralised_config = deepcopy(config)\n",
                "\n",
                "decentralised = {\n",
                "        \"train\": [\"baseline\"],\n",
                "        \"global\":{\n",
                "            \"n_clients\":5,\n",
                "            \"global_rounds\":10,\n",
                "            \"client_resources\":{\n",
                "                \"num_cpus\": 1, \n",
                "                \"num_gpus\": 0.19\n",
                "            },\n",
                "            \"ray_init_args\":{\n",
                "                \"include_dashboard\": True,\n",
                "                \"num_cpus\": 7,\n",
                "                \"num_gpus\": 1\n",
                "            },\n",
                "            \"swarm_orchestrator\": \"synchronous_fixed_rounds_fc\",\n",
                "        },\n",
                "        \"client\": {\n",
                "            \"epochs\": 10\n",
                "        }\n",
                "    }\n",
                "\n",
                "decentralised_config[\"decentralised\"] = decentralised\n",
                "decentralised_config[\"data\"][\"dataloader_args\"][\"num_workers\"] = 2\n",
                "\n",
                "with open(\"decentralised_config.json\", \"w\") as f:\n",
                "    json.dump(decentralised_config, f, indent=4)"
            ]
        },
        {
            "cell_type": "code",
            "execution_count": 14,
            "metadata": {},
            "outputs": [],
            "source": [
                "from fedswarm.utils.training.utils import get_best_device\n",
                "a = get_best_device()"
            ]
        },
        {
            "cell_type": "code",
            "execution_count": null,
            "metadata": {},
            "outputs": [],
            "source": []
        }
    ],
    "metadata": {
        "kernelspec": {
            "display_name": "swarm",
            "language": "python",
            "name": "python3"
        },
        "language_info": {
            "codemirror_mode": {
                "name": "ipython",
                "version": 3
            },
            "file_extension": ".py",
            "mimetype": "text/x-python",
            "name": "python",
            "nbconvert_exporter": "python",
            "pygments_lexer": "ipython3",
            "version": "3.10.9"
        },
        "orig_nbformat": 4
    },
    "nbformat": 4,
    "nbformat_minor": 2
}
