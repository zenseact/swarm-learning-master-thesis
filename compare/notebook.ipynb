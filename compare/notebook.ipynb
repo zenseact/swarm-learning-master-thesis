{
 "cells": [
  {
   "attachments": {},
   "cell_type": "markdown",
   "metadata": {
    "id": "JVcgAAiaihnx"
   },
   "source": [
    "### Exploration Platform"
   ]
  },
  {
   "cell_type": "code",
   "execution_count": 1,
   "metadata": {},
   "outputs": [
    {
     "name": "stderr",
     "output_type": "stream",
     "text": [
      "/home/alex/miniconda3/envs/swarm/lib/python3.10/site-packages/tqdm/auto.py:22: TqdmWarning: IProgress not found. Please update jupyter and ipywidgets. See https://ipywidgets.readthedocs.io/en/stable/user_install.html\n",
      "  from .autonotebook import tqdm as notebook_tqdm\n",
      "Loading train frames: 100%|██████████| 89976/89976 [00:22<00:00, 4037.46it/s]\n",
      "Loading val frames: 100%|██████████| 10024/10024 [00:01<00:00, 9120.87it/s]\n"
     ]
    }
   ],
   "source": [
    "from utils import Platform\n",
    "from utils.training import swarm\n",
    "\n",
    "# Optional: Decentralised shuffle seed\n",
    "\n",
    "config = {\n",
    "    \"data\":{\n",
    "        \"path\": \"/mnt/ZOD\",\n",
    "        \"version\":\"full\",\n",
    "        \"ratio\":0.15,\n",
    "        \"img_size\": [400, 1420],\n",
    "        \"transforms\":\"[CustomCrop(800, 500, 800, 2840), Resize((400, 1420))]\",\n",
    "        \"shuffle_seed\": 42,\n",
    "        \"decentralised_shuffle_seed\": 42,\n",
    "        \"dataloader_args\": {\n",
    "            \"prefetch_factor\": 2,\n",
    "            \"num_workers\": 2,\n",
    "            \"batch_size\": 32,\n",
    "        },\n",
    "        \"train_val_id_generator\":\"balanced_frames\"\n",
    "    },\n",
    "    \"model\":{\n",
    "        \"name\": \"default\",\n",
    "        \"args\": {\n",
    "            \"num_output\":66\n",
    "        },\n",
    "        \"loss\":\"MSELoss\"\n",
    "    },\n",
    "    \"central\":{\n",
    "        \"train\":\"true\",\n",
    "        \"use_gpu\":\"true\",\n",
    "        \"epochs\": 15\n",
    "    },\n",
    "    \"decentralised\":{\n",
    "        \"train\": [],\n",
    "        \"global\":{\n",
    "            \"n_clients\":5,\n",
    "            \"global_rounds\":3,\n",
    "            \"client_resources\":{\n",
    "                \"num_cpus\": 2, \n",
    "                \"num_gpus\": 0.2\n",
    "            },\n",
    "            \"ray_init_args\":{\n",
    "                \"include_dashboard\": True,\n",
    "                \"num_cpus\": 12,\n",
    "                \"num_gpus\": 2\n",
    "            },\n",
    "            \"swarm_orchestrator\": \"synchronous_fixed_rounds_fc\",\n",
    "        },\n",
    "        \"client\": {\n",
    "            \"epochs\": 10\n",
    "        }\n",
    "    },\n",
    "    \"note\": \"ROI Test\"\n",
    "}\n",
    "\n",
    "platform = Platform(config)"
   ]
  },
  {
   "cell_type": "markdown",
   "metadata": {},
   "source": [
    "# Other things"
   ]
  },
  {
   "cell_type": "code",
   "execution_count": null,
   "metadata": {},
   "outputs": [],
   "source": [
    "from zod.visualization.oxts_on_image import visualize_oxts_on_image\n",
    "from zod.constants import Camera, Lidar, Anonymization\n",
    "\n",
    "# extract the oxts data\n",
    "oxts = zod_frame.oxts\n",
    "\n",
    "# visualize the oxts data on the image\n",
    "calibrations = zod_frame.calibration\n",
    "from tbparse import SummaryReader\n",
    "log_dir = \"runs\"\n",
    "reader = SummaryReader(log_dir, extra_columns=set([\"dir_name\"]))\n",
    "df = reader.scalars\n",
    "\n",
    "\n",
    "global_metrics = dict(\n",
    "    centralised = \"centralised/loss/epoch\",\n",
    "    federated = \"federated/loss/global\",\n",
    ")\n",
    "\n",
    "reader.scalars.loc[df['tag'].isin(global_metrics.values())].info.keyframe_time.timestamp()\n",
    "\n",
    "image = zod_frame.get_image(Anonymization.DNAT)\n",
    "image = visualize_oxts_on_image(oxts, key_timestamp, calibrations, image, camera=Camera.FRONT)\n",
    "\n",
    "plt.axis(\"off\")\n",
    "plt.imshow(image)\n",
    "plt.show()"
   ]
  },
  {
   "cell_type": "code",
   "execution_count": null,
   "metadata": {},
   "outputs": [],
   "source": [
    "from tbparse import SummaryReader\n",
    "import plotly.express as px\n",
    "import matplotlib.pyplot as plt\n",
    "\n",
    "def get_name(s):\n",
    "    name_chunks = s.split(\"/\")[1].split(\"_\")\n",
    "    name = name_chunks[0] + \" \" + name_chunks[-1]\n",
    "    return name\n",
    "\n",
    "def get_run(s):\n",
    "    return s.split(\"/\")[0]\n",
    "\n",
    "log_dir = \"runs\"\n",
    "reader = SummaryReader(log_dir, extra_columns=set([\"dir_name\"]))\n",
    "df = reader.scalars\n",
    "\n",
    "\n",
    "global_metrics = dict(\n",
    "    centralised = \"centralised/loss/epoch\",\n",
    "    federated = \"federated/loss\",\n",
    ")\n",
    "\n",
    "global_results = reader.scalars.loc[df['tag'].isin(global_metrics.values())]\n",
    "\n",
    "global_results[\"dir_name\"]\n",
    "\n",
    "# Transformations\n",
    "global_results[\"Methods/Sets\"] = global_results[\"dir_name\"].apply(get_name)\n",
    "global_results[\"Run\"] = global_results[\"dir_name\"].apply(get_run)\n",
    "\n",
    "fig = px.line(\n",
    "    global_results, \n",
    "    x=\"step\", \n",
    "    y=\"value\", \n",
    "    color=\"Methods/Sets\", \n",
    "    width=1280, \n",
    "    height=720,\n",
    "    facet_row=\"Run\")\n",
    "fig.update_layout(\n",
    "    template=\"ggplot2\",\n",
    "    font=dict(family=\"Helvetica\", size=12, color=\"#404040\"),\n",
    "    title=dict(text=\"Benchmarks\", font=dict(size=24)),\n",
    "    xaxis=dict(title=\"Step\", showgrid=True),\n",
    "    yaxis=dict(title=\"Loss\", showgrid=True),\n",
    ")\n",
    "fig.show()"
   ]
  },
  {
   "cell_type": "code",
   "execution_count": null,
   "metadata": {},
   "outputs": [],
   "source": []
  }
 ],
 "metadata": {
  "accelerator": "GPU",
  "colab": {
   "provenance": []
  },
  "gpuClass": "standard",
  "kernelspec": {
   "display_name": "swarm",
   "language": "python",
   "name": "python3"
  },
  "language_info": {
   "codemirror_mode": {
    "name": "ipython",
    "version": 3
   },
   "file_extension": ".py",
   "mimetype": "text/x-python",
   "name": "python",
   "nbconvert_exporter": "python",
   "pygments_lexer": "ipython3",
   "version": "3.10.9"
  },
  "vscode": {
   "interpreter": {
    "hash": "0990a4b7de5d2c85c7cce664953dfbf94331088d6f308986bffd59634fe44075"
   }
  }
 },
 "nbformat": 4,
 "nbformat_minor": 1
}
