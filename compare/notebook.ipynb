{
 "cells": [
  {
   "attachments": {},
   "cell_type": "markdown",
   "metadata": {
    "id": "JVcgAAiaihnx"
   },
   "source": [
    "### Exploration Platform"
   ]
  },
  {
   "cell_type": "code",
   "execution_count": 1,
   "metadata": {},
   "outputs": [
    {
     "name": "stderr",
     "output_type": "stream",
     "text": [
      "/home/s0001722/anaconda3/envs/swarm/lib/python3.10/site-packages/tqdm/auto.py:22: TqdmWarning: IProgress not found. Please update jupyter and ipywidgets. See https://ipywidgets.readthedocs.io/en/stable/user_install.html\n",
      "  from .autonotebook import tqdm as notebook_tqdm\n",
      "Loading train frames: 100%|██████████| 89976/89976 [00:12<00:00, 7259.59it/s] \n",
      "Loading val frames: 100%|██████████| 10024/10024 [00:00<00:00, 18589.83it/s]\n",
      "INFO:root:Training samples: 269, Validation samples: 15, Test samples: 15\n",
      "INFO:root:Splitting dataset for 2 clients\n"
     ]
    }
   ],
   "source": [
    "import logging\n",
    "\n",
    "from utils import ZODHandler as Data\n",
    "from utils import run_training, WriterHandler\n",
    "\n",
    "logging.getLogger().setLevel(logging.INFO)\n",
    "\n",
    "config = {\n",
    "    \"data\":{\n",
    "        \"version\":\"full\",\n",
    "        \"ratio\":0.003,\n",
    "        \"img_size\": 160,\n",
    "        \"transforms\":\"[]\",\n",
    "        \"batch_size\":8,\n",
    "        \"test_set\":\"true\"\n",
    "    },\n",
    "    \"model\":{\n",
    "        \"name\": \"default\",\n",
    "        \"args\": {\n",
    "            \"num_output\":66\n",
    "        }\n",
    "    },\n",
    "    \"central\":{\n",
    "        \"train\":\"true\",\n",
    "        \"use_gpu\":\"true\",\n",
    "        \"epochs\": 3,\n",
    "        \"loss\":\"MSELoss\"\n",
    "    },\n",
    "    \"federated\":{\n",
    "        \"train\":\"true\",\n",
    "        \"global\":{\n",
    "            \"n_clients\":2,\n",
    "            \"global_rounds\":3,\n",
    "            \"client_resources\":{\n",
    "                \"num_cpus\": 16, \n",
    "                \"num_gpus\": 0\n",
    "            }\n",
    "        },\n",
    "        \"client\": {\n",
    "            \"epochs\": 3\n",
    "        }\n",
    "    },\n",
    "    \"swarm\":{\n",
    "        \"train\":\"true\",\n",
    "        \"global\":{\n",
    "            \"n_clients\":10\n",
    "        },\n",
    "        \"client\": {\n",
    "            \"epochs\": 3\n",
    "        }\n",
    "    }\n",
    "}\n",
    "\n",
    "log_dir = WriterHandler(config).writer.log_dir\n",
    "data = Data(config, log_dir)\n",
    "#results = run_training(config, data, log_dir)"
   ]
  },
  {
   "cell_type": "code",
   "execution_count": 2,
   "metadata": {},
   "outputs": [],
   "source": [
    "config = {\n",
    "    \"swarm\":{\n",
    "        \"train\":\"true\",\n",
    "        \"global\":{\n",
    "            \"n_clients\":10\n",
    "        },\n",
    "        \"client\": {\n",
    "            \"epochs\": 3\n",
    "        }\n",
    "    }\n",
    "}\n",
    "\n",
    "sim = SwarmSimulator(config)"
   ]
  },
  {
   "cell_type": "code",
   "execution_count": 1,
   "metadata": {},
   "outputs": [
    {
     "name": "stderr",
     "output_type": "stream",
     "text": [
      "/home/s0001722/anaconda3/envs/swarm/lib/python3.10/site-packages/tqdm/auto.py:22: TqdmWarning: IProgress not found. Please update jupyter and ipywidgets. See https://ipywidgets.readthedocs.io/en/stable/user_install.html\n",
      "  from .autonotebook import tqdm as notebook_tqdm\n",
      "2023-02-24 00:12:53,883\tINFO worker.py:1529 -- Started a local Ray instance. View the dashboard at \u001b[1m\u001b[32m127.0.0.1:8265 \u001b[39m\u001b[22m\n",
      "\u001b[2m\u001b[33m(raylet)\u001b[0m /home/s0001722/anaconda3/envs/swarm/lib/python3.10/site-packages/ray/dashboard/agent.py:51: DeprecationWarning: There is no current event loop\n",
      "\u001b[2m\u001b[33m(raylet)\u001b[0m   aiogrpc.init_grpc_aio()\n",
      ".2023-02-24 00:13:00,139\tINFO worker.py:1529 -- Started a local Ray instance. View the dashboard at \u001b[1m\u001b[32m127.0.0.1:8265 \u001b[39m\u001b[22m\n",
      ".2023-02-24 00:13:06,359\tINFO worker.py:1529 -- Started a local Ray instance. View the dashboard at \u001b[1m\u001b[32m127.0.0.1:8265 \u001b[39m\u001b[22m\n",
      ".2023-02-24 00:13:14,441\tINFO worker.py:1529 -- Started a local Ray instance. View the dashboard at \u001b[1m\u001b[32m127.0.0.1:8265 \u001b[39m\u001b[22m\n",
      ".2023-02-24 00:13:20,613\tINFO worker.py:1529 -- Started a local Ray instance. View the dashboard at \u001b[1m\u001b[32m127.0.0.1:8265 \u001b[39m\u001b[22m\n",
      ".2023-02-24 00:13:26,857\tINFO worker.py:1529 -- Started a local Ray instance. View the dashboard at \u001b[1m\u001b[32m127.0.0.1:8265 \u001b[39m\u001b[22m\n",
      ".\n",
      "----------------------------------------------------------------------\n",
      "Ran 6 tests in 39.280s\n",
      "\n",
      "OK\n"
     ]
    },
    {
     "data": {
      "text/plain": [
       "<unittest.runner.TextTestResult run=6 errors=0 failures=0>"
      ]
     },
     "execution_count": 1,
     "metadata": {},
     "output_type": "execute_result"
    }
   ],
   "source": [
    "import unittest\n",
    "\n",
    "from utils.training.tests import TestSwarmClient\n",
    "\n",
    "# Create a test suite from the test case\n",
    "suite = unittest.TestLoader().loadTestsFromTestCase(TestSwarmClient)\n",
    "\n",
    "# Create a test runner and run the suite\n",
    "runner = unittest.TextTestRunner()\n",
    "runner.run(suite)"
   ]
  },
  {
   "cell_type": "markdown",
   "metadata": {},
   "source": [
    "# Ray Example"
   ]
  },
  {
   "cell_type": "code",
   "execution_count": null,
   "metadata": {},
   "outputs": [],
   "source": [
    "@ray.remote\n",
    "class Jobs(object):\n",
    "    def __init__(self):\n",
    "        self.queue = [*range(1000)]\n",
    "        self.results = []\n",
    "    \n",
    "    def process_the_queue(self):\n",
    "        self.results.append(self.queue.pop() * 2)\n",
    "        \n",
    "    def get_queue(self):\n",
    "        return self.queue\n",
    "\n",
    "    def get_results(self):\n",
    "        return self.results\n",
    "\n",
    "# Create an actor process.\n",
    "c = Jobs.remote()\n",
    "\n",
    "# Check the actor's counter value.\n",
    "print(\"QUEUE:\", ray.get(c.get_queue.remote()))\n",
    "print(\"RESULTS:\", ray.get(c.get_results.remote()))\n",
    "\n",
    "# Increment the counter twice and check the value again.\n",
    "while len(ray.get(c.get_queue.remote())) > 0:\n",
    "    c.process_the_queue.remote()\n",
    "\n",
    "# Check the actor's counter value.\n",
    "print(\"QUEUE:\", ray.get(c.get_queue.remote()))\n",
    "print(\"RESULTS:\", ray.get(c.get_results.remote()))\n",
    "\n",
    "assert len(ray.get(c.get_queue.remote())) in [0, 1000]\n",
    "assert len(ray.get(c.get_results.remote())) in [0, 1000]"
   ]
  },
  {
   "cell_type": "markdown",
   "metadata": {},
   "source": [
    "# Other things"
   ]
  },
  {
   "cell_type": "code",
   "execution_count": null,
   "metadata": {},
   "outputs": [],
   "source": [
    "from zod.visualization.oxts_on_image import visualize_oxts_on_image\n",
    "from zod.constants import Camera, Lidar, Anonymization, Annotatiowidth\n",
    "\n",
    "# extract the oxts data\n",
    "oxts = zod_frame.oxts\n",
    "\n",
    "# visualize the oxts data on the image\n",
    "calibrations = zod_frame.calibration\n",
    "from tbparse import SummaryReader\n",
    "log_dir = \"runs\"\n",
    "reader = SummaryReader(log_dir, extra_columns=set([\"dir_name\"]))\n",
    "df = reader.scalars\n",
    "\n",
    "\n",
    "global_metrics = dict(\n",
    "    centralised = \"centralised/loss/epoch\",\n",
    "    federated = \"federated/loss/global\",\n",
    ")\n",
    "\n",
    "reader.scalars.loc[df['tag'].isin(global_metrics.values())]info.keyframe_time.timestamp()\n",
    "\n",
    "image = zod_frame.get_image(Anonymization.DNAT)\n",
    "image = visualize_oxts_on_image(oxts, key_timestamp, calibrations, image, camera=Camera.FRONT)\n",
    "\n",
    "plt.axis(\"off\")\n",
    "plt.imshow(image)\n",
    "plt.show()"
   ]
  },
  {
   "cell_type": "code",
   "execution_count": null,
   "metadata": {},
   "outputs": [],
   "source": [
    "from tbparse import SummaryReader\n",
    "import plotly.express as px\n",
    "import matplotlib.pyplot as plt\n",
    "\n",
    "def get_name(s):\n",
    "    name_chunks = s.split(\"/\")[1].split(\"_\")\n",
    "    name = name_chunks[0] + \" \" + name_chunks[-1]\n",
    "    return name\n",
    "\n",
    "def get_run(s):\n",
    "    return s.split(\"/\")[0]\n",
    "\n",
    "log_dir = \"runs\"\n",
    "reader = SummaryReader(log_dir, extra_columns=set([\"dir_name\"]))\n",
    "df = reader.scalars\n",
    "\n",
    "\n",
    "global_metrics = dict(\n",
    "    centralised = \"centralised/loss/epoch\",\n",
    "    federated = \"federated/loss\",\n",
    ")\n",
    "\n",
    "global_results = reader.scalars.loc[df['tag'].isin(global_metrics.values())]\n",
    "\n",
    "global_results[\"dir_name\"]\n",
    "\n",
    "# Transformations\n",
    "global_results[\"Methods/Sets\"] = global_results[\"dir_name\"].apply(get_name)\n",
    "global_results[\"Run\"] = global_results[\"dir_name\"].apply(get_run)\n",
    "\n",
    "fig = px.line(\n",
    "    global_results, \n",
    "    x=\"step\", \n",
    "    y=\"value\", \n",
    "    color=\"Methods/Sets\", \n",
    "    width=1280, \n",
    "    height=720,\n",
    "    facet_row=\"Run\")\n",
    "fig.update_layout(\n",
    "    template=\"ggplot2\",\n",
    "    font=dict(family=\"Helvetica\", size=12, color=\"#404040\"),\n",
    "    title=dict(text=\"Benchmarks\", font=dict(size=24)),\n",
    "    xaxis=dict(title=\"Step\", showgrid=True),\n",
    "    yaxis=dict(title=\"Loss\", showgrid=True),\n",
    ")\n",
    "fig.show()"
   ]
  },
  {
   "cell_type": "code",
   "execution_count": null,
   "metadata": {},
   "outputs": [],
   "source": [
    "from zod.visualization.oxts_on_image import visualize_oxts_on_image\n",
    "from zod.constants import Camera, Lidar, Anonymization, Annotatiowidth\n",
    "\n",
    "# extract the oxts data\n",
    "oxts = zod_frame.oxts\n",
    "\n",
    "# visualize the oxts data on the image\n",
    "calibrations = zod_frame.calibration\n",
    "from tbparse import SummaryReader\n",
    "log_dir = \"runs\"\n",
    "reader = SummaryReader(log_dir, extra_columns=set([\"dir_name\"]))\n",
    "df = reader.scalars\n",
    "\n",
    "\n",
    "global_metrics = dict(\n",
    "    centralised = \"centralised/loss/epoch\",\n",
    "    federated = \"federated/loss/global\",\n",
    ")\n",
    "\n",
    "reader.scalars.loc[df['tag'].isin(global_metrics.values())]info.keyframe_time.timestamp()\n",
    "\n",
    "image = zod_frame.get_image(Anonymization.DNAT)\n",
    "image = visualize_oxts_on_image(oxts, key_timestamp, calibrations, image, camera=Camera.FRONT)\n",
    "\n",
    "plt.axis(\"off\")\n",
    "plt.imshow(image)\n",
    "plt.show()"
   ]
  },
  {
   "cell_type": "code",
   "execution_count": null,
   "metadata": {},
   "outputs": [],
   "source": []
  }
 ],
 "metadata": {
  "accelerator": "GPU",
  "colab": {
   "provenance": []
  },
  "gpuClass": "standard",
  "kernelspec": {
   "display_name": "swarm",
   "language": "python",
   "name": "python3"
  },
  "language_info": {
   "codemirror_mode": {
    "name": "ipython",
    "version": 3
   },
   "file_extension": ".py",
   "mimetype": "text/x-python",
   "name": "python",
   "nbconvert_exporter": "python",
   "pygments_lexer": "ipython3",
   "version": "3.10.9"
  },
  "vscode": {
   "interpreter": {
    "hash": "c4cb4a89104512c1937e23d83232b4222676a1c23b7b9bddda6b7e4ae26bef77"
   }
  }
 },
 "nbformat": 4,
 "nbformat_minor": 1
}
